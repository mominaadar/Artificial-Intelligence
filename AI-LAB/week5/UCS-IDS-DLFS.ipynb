{
 "cells": [
  {
   "cell_type": "markdown",
   "metadata": {},
   "source": [
    "# UCS - IDS - DLS"
   ]
  },
  {
   "cell_type": "code",
   "execution_count": 1,
   "metadata": {},
   "outputs": [],
   "source": [
    "# bfs for uniform cost search\n",
    "# find depth"
   ]
  },
  {
   "cell_type": "code",
   "execution_count": 1,
   "metadata": {},
   "outputs": [],
   "source": [
    "def print_tree(tree, level=0, label='.'): \n",
    "    print(' ' * (level*2) + label + ':' , tree.val)\n",
    "    for child, lbl in zip([tree.left, tree.right], ['L', 'R']):  # do for all children \n",
    "        if child is not None:\n",
    "            print_tree(child, level+1, lbl)\n",
    "\n",
    "class TreeNode:\n",
    "    def __init__(self, val):\n",
    "        self.val = val\n",
    "        self.right = None\n",
    "        self.left = None\n",
    "        \n",
    "class BST(TreeNode):\n",
    "    def __init__(self, val, parent=None):\n",
    "        super().__init__(val)\n",
    "        self.parent = parent\n",
    "        \n",
    "        \n",
    "    def insert(self, val):\n",
    "        if val < self.val:\n",
    "            if self.left is None:\n",
    "                new_node = BST(val, parent = self)\n",
    "                self.left = new_node\n",
    "            else:\n",
    "                self.left.insert(val)\n",
    "\n",
    "        elif val > self.val:\n",
    "            if self.right is None:\n",
    "                new_node = BST(val, parent = self)\n",
    "                self.right = new_node\n",
    "            else:\n",
    "                self.right.insert(val)\n",
    "            "
   ]
  },
  {
   "cell_type": "code",
   "execution_count": 2,
   "metadata": {},
   "outputs": [
    {
     "name": "stdout",
     "output_type": "stream",
     "text": [
      ".: R\n",
      "  L: M\n",
      "    L: F\n",
      "      L: A\n",
      "      R: G\n",
      "    R: O\n",
      "      L: N\n",
      "      R: P\n",
      "  R: V\n",
      "    L: T\n",
      "      L: S\n",
      "      R: U\n",
      "    R: Y\n",
      "      L: X\n",
      "      R: Z\n"
     ]
    }
   ],
   "source": [
    "b = BST('R')\n",
    "b.insert('M')\n",
    "b.insert('F')\n",
    "b.insert('O')\n",
    "b.insert('A')\n",
    "b.insert('G')\n",
    "b.insert('N')\n",
    "b.insert('P')\n",
    "b.insert('V')\n",
    "b.insert('T')\n",
    "b.insert('Y')\n",
    "b.insert('S')\n",
    "b.insert('U')\n",
    "b.insert('X')\n",
    "b.insert('Z')\n",
    "\n",
    "print_tree(b)\n"
   ]
  },
  {
   "cell_type": "markdown",
   "metadata": {},
   "source": [
    "### Uniform Cost Search"
   ]
  },
  {
   "cell_type": "code",
   "execution_count": 3,
   "metadata": {},
   "outputs": [],
   "source": [
    "from collections import deque"
   ]
  },
  {
   "cell_type": "code",
   "execution_count": 15,
   "metadata": {},
   "outputs": [],
   "source": [
    "# TREE\n",
    "\n",
    "def ucs_search(root, goal):\n",
    "    \n",
    "    dic = {'R':{'M':1, 'V':5}, 'M':{'F':3, 'O':6}, 'V':{'T':9, 'Y':2}, 'F':{'A':3, 'G':4},'O':{'N':4, 'P':5}, 'T':{'S':8, 'U':6}, 'Y':{'X':7, 'Z':9}}\n",
    "    \n",
    "    paths_def = [['R','M','F','A'], ['R','M','F','G'], ['R','M','O','N'], ['R','M','O','P'], ['R','V','T','S'], ['R','V','T','U'], ['R','V','Y','X'], ['R','V','Y','Z']]\n",
    "    \n",
    "    # for path to goal state\n",
    "    path = []\n",
    "    \n",
    "    # to keep track of visited nodes\n",
    "    visited_nodes = []\n",
    "    \n",
    "    # to calculate path cost\n",
    "    cost = 0\n",
    "        \n",
    "    que = deque()\n",
    "    que.append(root)\n",
    "    \n",
    "    # if root is goal\n",
    "    if goal == root.val:\n",
    "        path.append(root.val)\n",
    "        return path, cost\n",
    "    \n",
    "    # if root is not goal\n",
    "    while que: \n",
    "        current = que.popleft()\n",
    "        \n",
    "        # to traverse a node only once\n",
    "        if current not in visited_nodes:\n",
    "            \n",
    "            visited_nodes.append(current.val)\n",
    "        \n",
    "            if current.val == goal:\n",
    "                \n",
    "                # loop to get to root from goal state - for path\n",
    "                while current:\n",
    "                    path.append(current.val)\n",
    "                    current = current.parent\n",
    "        \n",
    "            else:            \n",
    "                if current.left:\n",
    "                    que.append(current.left)\n",
    "\n",
    "                if current.right:\n",
    "                    que.append(current.right)\n",
    "    \n",
    "    path.reverse()\n",
    "        \n",
    "    for i in range(0,len(path)-1):\n",
    "        first = path[i]\n",
    "        second = path[i+1]\n",
    "        cost = cost + dic[first][second]\n",
    "    \n",
    "    return path, cost\n",
    "        \n",
    "BST.ucs_search = ucs_search"
   ]
  },
  {
   "cell_type": "code",
   "execution_count": 16,
   "metadata": {},
   "outputs": [
    {
     "data": {
      "text/plain": [
       "([], 0)"
      ]
     },
     "execution_count": 16,
     "metadata": {},
     "output_type": "execute_result"
    }
   ],
   "source": [
    "b.ucs_search('W')"
   ]
  },
  {
   "cell_type": "markdown",
   "metadata": {},
   "source": [
    "### Depth-Limited First Search"
   ]
  },
  {
   "cell_type": "code",
   "execution_count": 6,
   "metadata": {},
   "outputs": [],
   "source": [
    "# this was just for DLS\n",
    "\n",
    "def DLS(root, goal, limit):\n",
    "    \n",
    "    stk = []\n",
    "    stk.append(root)\n",
    "    found = False\n",
    "    \n",
    "    while stk:\n",
    "        \n",
    "        current = stk.pop()\n",
    "        \n",
    "                            \n",
    "        if current.val == goal:\n",
    "            found = True\n",
    "            break\n",
    "\n",
    "        else:\n",
    "            if current.right:\n",
    "                depth = get_depth(current.right)\n",
    "                if depth <= limit:\n",
    "                    stk.append(current.right)\n",
    "            if current.left:\n",
    "                depth = get_depth(current.left)\n",
    "                if depth <= limit:\n",
    "                        stk.append(current.left)\n",
    "            \n",
    "    if found == True:\n",
    "        depth = get_depth(current)\n",
    "        print('Goal found at depth',depth)\n",
    "        \n",
    "    elif found == False:\n",
    "        print(goal,\"not found within depth's limit.\")\n",
    "    \n",
    "    return\n",
    "    \n",
    "BST.DLS = DLS"
   ]
  },
  {
   "cell_type": "code",
   "execution_count": 14,
   "metadata": {},
   "outputs": [
    {
     "data": {
      "text/plain": [
       "False"
      ]
     },
     "execution_count": 14,
     "metadata": {},
     "output_type": "execute_result"
    }
   ],
   "source": [
    "b.DLS('W', 3)"
   ]
  },
  {
   "cell_type": "code",
   "execution_count": 8,
   "metadata": {},
   "outputs": [],
   "source": [
    "##################################################################"
   ]
  },
  {
   "cell_type": "markdown",
   "metadata": {},
   "source": [
    "### Iterative Deepening Search"
   ]
  },
  {
   "cell_type": "code",
   "execution_count": 9,
   "metadata": {},
   "outputs": [],
   "source": [
    "# For both DLS and IDS\n",
    "\n",
    "def DLS(root, goal, limit):\n",
    "    \n",
    "    stk = []\n",
    "    stk.append(root)\n",
    "    found = False\n",
    "    \n",
    "    while stk:\n",
    "        \n",
    "        current = stk.pop()\n",
    "#         print(current.val)\n",
    "        \n",
    "        if current:\n",
    "                            \n",
    "            if current.val == goal:\n",
    "                found = True\n",
    "                break\n",
    "\n",
    "            else:\n",
    "                if current.right:\n",
    "                    depth = get_depth(current.right)\n",
    "                    if depth <= limit:\n",
    "                        stk.append(current.right)\n",
    "                if current.left:\n",
    "                    depth = get_depth(current.left)\n",
    "                    if depth <= limit:\n",
    "                        stk.append(current.left)\n",
    "            \n",
    "    if found == True:\n",
    "        depth = get_depth(current)\n",
    "        print('Goal found at depth',depth)\n",
    "        return True\n",
    "    else:\n",
    "        return False\n",
    "    \n",
    "BST.DLS = DLS"
   ]
  },
  {
   "cell_type": "code",
   "execution_count": 10,
   "metadata": {},
   "outputs": [],
   "source": [
    "def get_depth(root):\n",
    "    level = 0\n",
    "    \n",
    "    while root:\n",
    "        root = root.parent\n",
    "        if root:\n",
    "            level += 1\n",
    "        \n",
    "    return level"
   ]
  },
  {
   "cell_type": "code",
   "execution_count": 11,
   "metadata": {},
   "outputs": [],
   "source": [
    "def IDS(root, goal):\n",
    "    \n",
    "    max_depth = 0\n",
    "        \n",
    "    # to get max depth\n",
    "    while root:\n",
    "        # because CBT so all leaf nodes will be at the same depth\n",
    "        root = root.left\n",
    "        if root:\n",
    "            max_depth += 1\n",
    "    \n",
    "    for depth in range(0, max_depth+1):\n",
    "        flg = b.DLS(goal, depth)\n",
    "        if flg == True:\n",
    "            return True\n",
    "\n",
    "    if flg == False:\n",
    "        return ('Goal not found')\n",
    "\n",
    "\n",
    "BST.IDS = IDS"
   ]
  },
  {
   "cell_type": "code",
   "execution_count": 12,
   "metadata": {},
   "outputs": [
    {
     "name": "stdout",
     "output_type": "stream",
     "text": [
      "Goal found at depth 3\n"
     ]
    },
    {
     "data": {
      "text/plain": [
       "True"
      ]
     },
     "execution_count": 12,
     "metadata": {},
     "output_type": "execute_result"
    }
   ],
   "source": [
    "b.IDS('Z')"
   ]
  },
  {
   "cell_type": "code",
   "execution_count": 13,
   "metadata": {},
   "outputs": [
    {
     "name": "stdout",
     "output_type": "stream",
     "text": [
      "Goal found at depth 3\n"
     ]
    },
    {
     "data": {
      "text/plain": [
       "True"
      ]
     },
     "execution_count": 13,
     "metadata": {},
     "output_type": "execute_result"
    }
   ],
   "source": [
    "b.DLS('Z',3)"
   ]
  },
  {
   "cell_type": "code",
   "execution_count": null,
   "metadata": {},
   "outputs": [],
   "source": []
  }
 ],
 "metadata": {
  "kernelspec": {
   "display_name": "Python 3",
   "language": "python",
   "name": "python3"
  },
  "language_info": {
   "codemirror_mode": {
    "name": "ipython",
    "version": 3
   },
   "file_extension": ".py",
   "mimetype": "text/x-python",
   "name": "python",
   "nbconvert_exporter": "python",
   "pygments_lexer": "ipython3",
   "version": "3.8.3"
  }
 },
 "nbformat": 4,
 "nbformat_minor": 4
}
