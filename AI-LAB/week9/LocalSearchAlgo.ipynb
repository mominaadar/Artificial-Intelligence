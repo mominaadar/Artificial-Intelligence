{
 "cells": [
  {
   "cell_type": "code",
   "execution_count": 1,
   "metadata": {},
   "outputs": [],
   "source": [
    "grid = [[10, 3,  4,  6,  23],\n",
    "        [9,  32, 12, 2,  34],\n",
    "        [7,  8,  0,  21, 11],\n",
    "        [18, 67, 55, 89, 90],\n",
    "        [22, 33, 14, 44, 50]]"
   ]
  },
  {
   "cell_type": "code",
   "execution_count": 2,
   "metadata": {},
   "outputs": [],
   "source": [
    "def hill_climbing(grid):\n",
    "    r, c = 2, 2\n",
    "    current = grid[r][c]\n",
    "    \n",
    "    found = False\n",
    "    max_val = []\n",
    "    neighbor = 0\n",
    "    \n",
    "    while found is False:\n",
    "        vals = []\n",
    "        \n",
    "        up = [r-1, c]\n",
    "        dwn = [r+1, c]\n",
    "        rgt = [r, c+1]\n",
    "        lft = [r, c-1]\n",
    "        \n",
    "        if up[0] >= 0 and up[0] <= 4 and up[1] >= 0 and up[1] <= 4:\n",
    "            print('up',up)\n",
    "            vals.append(['up',up])\n",
    "        \n",
    "        if dwn[0] >= 0 and dwn[0] <= 4 and dwn[1] >= 0 and dwn[1] <= 4:\n",
    "            print('dwn',dwn)\n",
    "            vals.append(['dwn',dwn])\n",
    "            \n",
    "        if rgt[0] >= 0 and rgt[0] <= 4 and rgt[1] >= 0 and rgt[1] <= 4:\n",
    "            print('rgt',rgt)\n",
    "            vals.append(['rgt',rgt])\n",
    "        \n",
    "        if lft[0] >= 0 and lft[0] <= 4 and lft[1] >= 0 and lft[1] <= 4:\n",
    "            print('lft',lft)\n",
    "            vals.append(['lft',lft])\n",
    "            \n",
    "        \n",
    "        for i in vals:\n",
    "            a, b = i[1][0], i[1][1]\n",
    "            if grid[a][b] > neighbor:\n",
    "                neighbor = grid[a][b]\n",
    "                r, c = a, b\n",
    "                \n",
    "        print('neighbor',neighbor,'r=',r,'c=',c)\n",
    "        \n",
    "        if neighbor <= current:\n",
    "            return (r, c)\n",
    "        \n",
    "        current = grid[r][c]\n",
    "        \n",
    "            "
   ]
  },
  {
   "cell_type": "code",
   "execution_count": 3,
   "metadata": {},
   "outputs": [
    {
     "name": "stdout",
     "output_type": "stream",
     "text": [
      "up [1, 2]\n",
      "dwn [3, 2]\n",
      "rgt [2, 3]\n",
      "lft [2, 1]\n",
      "neighbor 55 r= 3 c= 2\n",
      "up [2, 2]\n",
      "dwn [4, 2]\n",
      "rgt [3, 3]\n",
      "lft [3, 1]\n",
      "neighbor 89 r= 3 c= 3\n",
      "up [2, 3]\n",
      "dwn [4, 3]\n",
      "rgt [3, 4]\n",
      "lft [3, 2]\n",
      "neighbor 90 r= 3 c= 4\n",
      "up [2, 4]\n",
      "dwn [4, 4]\n",
      "lft [3, 3]\n",
      "neighbor 90 r= 3 c= 4\n"
     ]
    },
    {
     "data": {
      "text/plain": [
       "(3, 4)"
      ]
     },
     "execution_count": 3,
     "metadata": {},
     "output_type": "execute_result"
    }
   ],
   "source": [
    "hill_climbing(grid)"
   ]
  },
  {
   "cell_type": "code",
   "execution_count": 4,
   "metadata": {},
   "outputs": [],
   "source": [
    "##########################################################"
   ]
  },
  {
   "cell_type": "code",
   "execution_count": 5,
   "metadata": {},
   "outputs": [],
   "source": [
    "g = [[10, 3,  4,   6,  23],\n",
    "     [9,  32, 12,  2,  34],\n",
    "     [7,  8,  100, 21, 11],\n",
    "     [18, 67, 55,  89, 90],\n",
    "     [22, 33, 14,  44, 110]]"
   ]
  },
  {
   "cell_type": "code",
   "execution_count": 6,
   "metadata": {},
   "outputs": [],
   "source": [
    "import itertools\n",
    "import random\n",
    "from math import exp"
   ]
  },
  {
   "cell_type": "code",
   "execution_count": 9,
   "metadata": {},
   "outputs": [],
   "source": [
    "def simulated_annealing(grid, schedule):\n",
    "    r, c = 2, 2\n",
    "    current = [r,c]\n",
    "    current_val = grid[current[0]][current[1]]\n",
    "\n",
    "    \n",
    "    found = False\n",
    "    prob = 0\n",
    "    \n",
    "    # loop will run infinitely\n",
    "    for t in itertools.count():\n",
    "        if t == 0:\n",
    "            continue\n",
    "        \n",
    "        probs = []\n",
    "        max_prob = 0\n",
    "\n",
    "        T = schedule(t)\n",
    "#         print('Value of T:',T)\n",
    "        \n",
    "        if T == 0:\n",
    "            return (r,c)\n",
    "        \n",
    "        \n",
    "        neighbors = []\n",
    "        \n",
    "        up = [r-1, c]\n",
    "        dwn = [r+1, c]\n",
    "        rgt = [r, c+1]\n",
    "        lft = [r, c-1]\n",
    "        \n",
    "        if up[0] >= 0 and up[0] <= 4 and up[1] >= 0 and up[1] <= 4:\n",
    "#             print('up',up)\n",
    "            neighbors.append(['up',up])\n",
    "        \n",
    "        if dwn[0] >= 0 and dwn[0] <= 4 and dwn[1] >= 0 and dwn[1] <= 4:\n",
    "#             print('dwn',dwn)\n",
    "            neighbors.append(['dwn',dwn])\n",
    "            \n",
    "        if rgt[0] >= 0 and rgt[0] <= 4 and rgt[1] >= 0 and rgt[1] <= 4:\n",
    "#             print('rgt',rgt)\n",
    "            neighbors.append(['rgt',rgt])\n",
    "        \n",
    "        if lft[0] >= 0 and lft[0] <= 4 and lft[1] >= 0 and lft[1] <= 4:\n",
    "#             print('lft',lft)\n",
    "            neighbors.append(['lft',lft])\n",
    "            \n",
    "        x = random.choice(neighbors)\n",
    "#         print('Randomly chosen:',x)\n",
    "        a, b = x[1][0], x[1][1]\n",
    "        \n",
    "        next_ = [a,b]\n",
    "        next_val = grid[next_[0]][next_[1]]\n",
    "        \n",
    "        delta_E = next_val - current_val\n",
    "#         print(next_val, current_val)\n",
    "#         print('Delta E val:',delta_E)\n",
    "        \n",
    "        if delta_E > 0:\n",
    "            current = next_\n",
    "            r, c = next_[0], next_[1]\n",
    "            current_val = grid[current[0]][current[1]]\n",
    "#             print('New current when E > 0',current)\n",
    "            \n",
    "        else:\n",
    "            #check for all neighbors\n",
    "            for n in neighbors:\n",
    "                if n[1] == current:\n",
    "                    continue\n",
    "                else:\n",
    "#                     print('Neighbors:',n)\n",
    "                    a, b = n[1][0], n[1][1]\n",
    "                    delta_E = grid[a][b] - grid[current[0]][current[1]]\n",
    "                    e = exp(delta_E/T)\n",
    "#                     print('Probability (e)',e)\n",
    "\n",
    "                    probs.append([[a,b], e])\n",
    "            \n",
    "            for p in probs:\n",
    "                if p[1] > max_prob:\n",
    "                    max_prob = p[1]\n",
    "                    r, c = p[0][0], p[0][1]\n",
    "            \n",
    "#             print('Maximum probability:',max_prob,'State:',r,',',c)\n",
    "            current = [r, c]\n",
    "            current_val = grid[current[0]][current[1]]\n",
    "\n",
    "#             print('New current:',current)\n",
    "#             print('-----------------')\n",
    "                \n",
    "                \n",
    "            \n",
    "            "
   ]
  },
  {
   "cell_type": "code",
   "execution_count": 8,
   "metadata": {},
   "outputs": [],
   "source": [
    "# exponential\n",
    "def schedule(t):\n",
    "#     return (pow(10,2)-pow(2.71,t))\n",
    "    return (pow(10,5)-t)"
   ]
  },
  {
   "cell_type": "code",
   "execution_count": 10,
   "metadata": {},
   "outputs": [
    {
     "name": "stdout",
     "output_type": "stream",
     "text": [
      "CPU times: user 307 ms, sys: 0 ns, total: 307 ms\n",
      "Wall time: 305 ms\n"
     ]
    },
    {
     "data": {
      "text/plain": [
       "(3, 4)"
      ]
     },
     "execution_count": 10,
     "metadata": {},
     "output_type": "execute_result"
    }
   ],
   "source": [
    "import time\n",
    "\n",
    "%time simulated_annealing(g, schedule)"
   ]
  },
  {
   "cell_type": "code",
   "execution_count": null,
   "metadata": {},
   "outputs": [],
   "source": []
  }
 ],
 "metadata": {
  "kernelspec": {
   "display_name": "Python 3",
   "language": "python",
   "name": "python3"
  },
  "language_info": {
   "codemirror_mode": {
    "name": "ipython",
    "version": 3
   },
   "file_extension": ".py",
   "mimetype": "text/x-python",
   "name": "python",
   "nbconvert_exporter": "python",
   "pygments_lexer": "ipython3",
   "version": "3.8.3"
  }
 },
 "nbformat": 4,
 "nbformat_minor": 4
}
