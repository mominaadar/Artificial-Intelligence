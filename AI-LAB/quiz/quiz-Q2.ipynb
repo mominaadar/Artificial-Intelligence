{
 "cells": [
  {
   "cell_type": "code",
   "execution_count": 2,
   "metadata": {},
   "outputs": [],
   "source": [
    "import itertools\n",
    "import random\n",
    "from math import exp"
   ]
  },
  {
   "cell_type": "code",
   "execution_count": 3,
   "metadata": {},
   "outputs": [],
   "source": [
    "board = [['Z','A','E','B','W','$'],\n",
    "         ['H','F','G','X','F','D'],\n",
    "         ['*','R','S','#','M','K'],\n",
    "         ['G','H','T','O','R','L'],\n",
    "         ['D','I','@','S','C','Y'],\n",
    "         ['V','W','N','P','Q','X']]"
   ]
  },
  {
   "cell_type": "code",
   "execution_count": 47,
   "metadata": {},
   "outputs": [],
   "source": [
    "def simulated_annealing(grid, schedule):\n",
    "    r, c = 0,0\n",
    "    current = [r,c]\n",
    "    current_val = grid[current[0]][current[1]]\n",
    "\n",
    "    \n",
    "    found = False\n",
    "    prob = 0\n",
    "    \n",
    "    # loop will run infinitely\n",
    "    for t in itertools.count():\n",
    "        if t == 0:\n",
    "            continue\n",
    "        \n",
    "        probs = []\n",
    "        max_prob = 0\n",
    "\n",
    "        T = schedule(t)\n",
    "#         print('Value of T:',T)\n",
    "        \n",
    "        if T == 0:\n",
    "            return (r,c)\n",
    "        \n",
    "        \n",
    "        neighbors = []\n",
    "        \n",
    "        up = [r-1, c]\n",
    "        dwn = [r+1, c]\n",
    "        rgt = [r, c+1]\n",
    "        lft = [r, c-1]\n",
    "        \n",
    "        if up[0] >= 0 and up[0] <= 5 and up[1] >= 0 and up[1] <= 5:\n",
    "#             print('up',up)\n",
    "            neighbors.append(['up',up])\n",
    "        \n",
    "        if dwn[0] >= 0 and dwn[0] <= 5 and dwn[1] >= 0 and dwn[1] <= 5:\n",
    "#             print('dwn',dwn)\n",
    "            neighbors.append(['dwn',dwn])\n",
    "            \n",
    "        if rgt[0] >= 0 and rgt[0] <= 5 and rgt[1] >= 0 and rgt[1] <= 5:\n",
    "#             print('rgt',rgt)\n",
    "            neighbors.append(['rgt',rgt])\n",
    "        \n",
    "        if lft[0] >= 0 and lft[0] <= 5 and lft[1] >= 0 and lft[1] <= 5:\n",
    "#             print('lft',lft)\n",
    "            neighbors.append(['lft',lft])\n",
    "            \n",
    "        x = random.choice(neighbors)\n",
    "#         print('Randomly chosen:',x)\n",
    "        a, b = x[1][0], x[1][1]\n",
    "        \n",
    "        next_ = [a,b]\n",
    "        next_val = grid[next_[0]][next_[1]]\n",
    "#         print('next',next_val)\n",
    "        \n",
    "        delta_E = ord(next_val) - ord(current_val)\n",
    "#         print(next_val, current_val)\n",
    "#         print('Delta E val:',delta_E)\n",
    "        \n",
    "        if delta_E > 0:\n",
    "            current = next_\n",
    "            r, c = next_[0], next_[1]\n",
    "            current_val = grid[current[0]][current[1]]\n",
    "#             print('New current when E > 0',current)\n",
    "            \n",
    "        else:\n",
    "            #check for all neighbors\n",
    "            for n in neighbors:\n",
    "                if n[1] == current:\n",
    "                    continue\n",
    "                else:\n",
    "#                     print('Neighbors:',n)\n",
    "                    a, b = n[1][0], n[1][1]\n",
    "                    delta_E = ord(grid[a][b]) - ord(grid[current[0]][current[1]])\n",
    "                    e = exp(delta_E/T)\n",
    "#                     print('Probability (e)',e)\n",
    "\n",
    "                    probs.append([[a,b], e])\n",
    "            \n",
    "            for p in probs:\n",
    "                if p[1] > max_prob:\n",
    "                    max_prob = p[1]\n",
    "                    r, c = p[0][0], p[0][1]\n",
    "            \n",
    "#             print('Maximum probability:',max_prob,'State:',r,',',c)\n",
    "            current = [r, c]\n",
    "            current_val = grid[current[0]][current[1]]\n",
    "\n",
    "#             print('New current:',current)\n",
    "#             print('-----------------')"
   ]
  },
  {
   "cell_type": "code",
   "execution_count": 56,
   "metadata": {},
   "outputs": [],
   "source": [
    "# exponential\n",
    "def schedule(t):\n",
    "#     return (pow(10,2)-pow(2.71,t))\n",
    "    return (pow(10,7)-t)"
   ]
  },
  {
   "cell_type": "code",
   "execution_count": 57,
   "metadata": {},
   "outputs": [
    {
     "name": "stdout",
     "output_type": "stream",
     "text": [
      "CPU times: user 33.2 s, sys: 0 ns, total: 33.2 s\n",
      "Wall time: 33.2 s\n"
     ]
    },
    {
     "data": {
      "text/plain": [
       "(1, 0)"
      ]
     },
     "execution_count": 57,
     "metadata": {},
     "output_type": "execute_result"
    }
   ],
   "source": [
    "import time\n",
    "\n",
    "%time simulated_annealing(board, schedule)"
   ]
  },
  {
   "cell_type": "code",
   "execution_count": null,
   "metadata": {},
   "outputs": [],
   "source": []
  },
  {
   "cell_type": "code",
   "execution_count": null,
   "metadata": {},
   "outputs": [],
   "source": []
  }
 ],
 "metadata": {
  "kernelspec": {
   "display_name": "Python 3",
   "language": "python",
   "name": "python3"
  },
  "language_info": {
   "codemirror_mode": {
    "name": "ipython",
    "version": 3
   },
   "file_extension": ".py",
   "mimetype": "text/x-python",
   "name": "python",
   "nbconvert_exporter": "python",
   "pygments_lexer": "ipython3",
   "version": "3.8.3"
  }
 },
 "nbformat": 4,
 "nbformat_minor": 4
}
