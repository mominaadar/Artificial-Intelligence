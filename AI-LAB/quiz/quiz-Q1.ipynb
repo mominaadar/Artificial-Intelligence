{
 "cells": [
  {
   "cell_type": "code",
   "execution_count": 118,
   "metadata": {},
   "outputs": [],
   "source": [
    "board = [['Z','A','E','B','W','$'],\n",
    "         ['H','F','G','X','F','D'],\n",
    "         ['*','R','S','#','M','K'],\n",
    "         ['G','H','T','O','R','L'],\n",
    "         ['D','I','@','S','C','Y'],\n",
    "         ['V','W','N','P','Q','X']]"
   ]
  },
  {
   "cell_type": "code",
   "execution_count": 119,
   "metadata": {},
   "outputs": [],
   "source": [
    "from queue import PriorityQueue"
   ]
  },
  {
   "cell_type": "code",
   "execution_count": 155,
   "metadata": {},
   "outputs": [],
   "source": [
    "def get_neighbours(node, r, c):\n",
    "    \n",
    "    neighbours = []\n",
    "    \n",
    "    up = [r-1, c]\n",
    "    dwn = [r+1, c]\n",
    "    rgt = [r, c+1]\n",
    "    lft = [r, c-1]\n",
    "\n",
    "    if up[0] >= 0 and up[0] <= 5 and up[1] >= 0 and up[1] <= 5:\n",
    "        if up not in neighbours:\n",
    "            neighbours.append(up)\n",
    "\n",
    "    if dwn[0] >= 0 and dwn[0] <= 5 and dwn[1] >= 0 and dwn[1] <= 5:\n",
    "        if dwn not in neighbours:\n",
    "            neighbours.append(dwn)\n",
    "\n",
    "    if rgt[0] >= 0 and rgt[0] <= 5 and rgt[1] >= 0 and rgt[1] <= 5:\n",
    "        if rgt not in neighbours:\n",
    "            neighbours.append(rgt)\n",
    "\n",
    "    if lft[0] >= 0 and lft[0] <= 5 and lft[1] >= 0 and lft[1] <= 5:\n",
    "        if lft not in neighbours:\n",
    "            neighbours.append(lft)\n",
    "            \n",
    "    return neighbours"
   ]
  },
  {
   "cell_type": "code",
   "execution_count": 156,
   "metadata": {},
   "outputs": [],
   "source": [
    "# fixed cost for ease\n",
    "\n",
    "def get_cost(node_r, node_c, neighbour):\n",
    "    \n",
    "    # up\n",
    "    if board[node_r-1][node_c] == board[neighbour[0]][neighbour[1]]:\n",
    "        cost = 4\n",
    "        return cost\n",
    "    \n",
    "    # down\n",
    "    if board[node_r+1][node_c] == board[neighbour[0]][neighbour[1]]:\n",
    "        cost = 1\n",
    "        return cost\n",
    "        \n",
    "    # right\n",
    "    if board[node_r][node_c+1] == board[neighbour[0]][neighbour[1]]:\n",
    "        cost = 2\n",
    "        return cost\n",
    "        \n",
    "    # left\n",
    "    if board[node_r][node_c-1] == board[neighbour[0]][neighbour[1]]:\n",
    "        cost = 3\n",
    "        return cost "
   ]
  },
  {
   "cell_type": "code",
   "execution_count": 157,
   "metadata": {},
   "outputs": [],
   "source": [
    "def get_index(board,node):\n",
    "    for a in range(len(board)):\n",
    "        for b in range(len(board[0])):\n",
    "            if board[a][b] == node:\n",
    "                r, c = a,b\n",
    "                return (r,c)"
   ]
  },
  {
   "cell_type": "code",
   "execution_count": 164,
   "metadata": {},
   "outputs": [],
   "source": [
    "def GBFS(board, src, dest):\n",
    "    visited_nodes = []\n",
    "    que = PriorityQueue()\n",
    "    que.put((0,src))\n",
    "    t_cost = 0\n",
    "    \n",
    "    while que:\n",
    "        cost, node = que.get()\n",
    "        \n",
    "        min_cost = float('inf')\n",
    "        \n",
    "        print(cost,node)\n",
    "        \n",
    "        if node not in visited_nodes:\n",
    "            visited_nodes.append(node)\n",
    "            \n",
    "            if node == dest:\n",
    "                print('Total cost:',t_cost,'Node:', node)\n",
    "                return que\n",
    "            \n",
    "            idx = get_index(board,node)\n",
    "            \n",
    "            neighbours = get_neighbours(node, idx[0], idx[1])\n",
    "            print(neighbours)\n",
    "            \n",
    "            for i in neighbours:\n",
    "                if board[i[0]][i[1]] not in visited_nodes:\n",
    "                    cost = get_cost(idx[0],idx[1],i)\n",
    "                    if cost < min_cost:\n",
    "                        min_cost = cost\n",
    "                        loc = board[i[0]][i[1]]\n",
    "                        \n",
    "            que.put((min_cost,loc))\n",
    "            t_cost = t_cost + min_cost\n",
    "            \n",
    "            print('-------------')\n",
    "            \n",
    "    return False"
   ]
  },
  {
   "cell_type": "code",
   "execution_count": 165,
   "metadata": {},
   "outputs": [
    {
     "name": "stdout",
     "output_type": "stream",
     "text": [
      "0 Z\n",
      "[[1, 0], [0, 1]]\n",
      "-------------\n",
      "1 H\n",
      "[[0, 0], [2, 0], [1, 1]]\n",
      "-------------\n",
      "1 *\n",
      "[[1, 0], [3, 0], [2, 1]]\n",
      "-------------\n",
      "1 G\n",
      "[[0, 2], [2, 2], [1, 3], [1, 1]]\n",
      "-------------\n",
      "1 S\n",
      "[[1, 2], [3, 2], [2, 3], [2, 1]]\n",
      "-------------\n",
      "1 T\n",
      "[[2, 2], [4, 2], [3, 3], [3, 1]]\n",
      "-------------\n",
      "1 @\n",
      "Total cost: 6 Node: @\n"
     ]
    },
    {
     "data": {
      "text/plain": [
       "<queue.PriorityQueue at 0x7f06417ec550>"
      ]
     },
     "execution_count": 165,
     "metadata": {},
     "output_type": "execute_result"
    }
   ],
   "source": [
    "GBFS(board,'Z','@')"
   ]
  },
  {
   "cell_type": "code",
   "execution_count": null,
   "metadata": {},
   "outputs": [],
   "source": []
  },
  {
   "cell_type": "code",
   "execution_count": null,
   "metadata": {},
   "outputs": [],
   "source": []
  }
 ],
 "metadata": {
  "kernelspec": {
   "display_name": "Python 3",
   "language": "python",
   "name": "python3"
  },
  "language_info": {
   "codemirror_mode": {
    "name": "ipython",
    "version": 3
   },
   "file_extension": ".py",
   "mimetype": "text/x-python",
   "name": "python",
   "nbconvert_exporter": "python",
   "pygments_lexer": "ipython3",
   "version": "3.8.3"
  }
 },
 "nbformat": 4,
 "nbformat_minor": 4
}
