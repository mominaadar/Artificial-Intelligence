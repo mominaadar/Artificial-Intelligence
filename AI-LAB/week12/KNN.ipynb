{
 "cells": [
  {
   "cell_type": "code",
   "execution_count": 506,
   "metadata": {},
   "outputs": [],
   "source": [
    "import pandas as pd"
   ]
  },
  {
   "cell_type": "code",
   "execution_count": 585,
   "metadata": {},
   "outputs": [],
   "source": [
    "data = pd.read_csv('dataset.csv')\n",
    "# data"
   ]
  },
  {
   "cell_type": "code",
   "execution_count": 586,
   "metadata": {},
   "outputs": [],
   "source": [
    "cols = [0,3,4,5,6]\n",
    "data = data.iloc[:,cols]\n",
    "# data"
   ]
  },
  {
   "cell_type": "code",
   "execution_count": 587,
   "metadata": {},
   "outputs": [],
   "source": [
    "mass_mean = data['mass'].mean()\n",
    "height_mean = data['height'].mean()"
   ]
  },
  {
   "cell_type": "code",
   "execution_count": 588,
   "metadata": {},
   "outputs": [],
   "source": [
    "data.loc[17] = pd.Series({'fruit_label':data.loc[17]['fruit_label'], 'mass':mass_mean, 'width':data.loc[17]['width'], 'height':height_mean, 'color_score':data.loc[17]['color_score']})\n",
    "data.loc[18] = pd.Series({'fruit_label':data.loc[18]['fruit_label'], 'mass':mass_mean, 'width':data.loc[18]['width'], 'height':height_mean, 'color_score':data.loc[18]['color_score']})\n",
    "data.loc[19] = pd.Series({'fruit_label':data.loc[19]['fruit_label'], 'mass':mass_mean, 'width':data.loc[19]['width'], 'height':height_mean, 'color_score':data.loc[19]['color_score']})\n",
    "data.loc[20] = pd.Series({'fruit_label':data.loc[20]['fruit_label'], 'mass':mass_mean, 'width':data.loc[20]['width'], 'height':height_mean, 'color_score':data.loc[20]['color_score']})\n",
    "data.loc[21] = pd.Series({'fruit_label':data.loc[21]['fruit_label'], 'mass':mass_mean, 'width':data.loc[21]['width'], 'height':height_mean, 'color_score':data.loc[21]['color_score']})\n",
    "data.loc[22] = pd.Series({'fruit_label':data.loc[22]['fruit_label'], 'mass':mass_mean, 'width':data.loc[22]['width'], 'height':height_mean, 'color_score':data.loc[22]['color_score']})\n",
    "data.loc[23] = pd.Series({'fruit_label':data.loc[23]['fruit_label'], 'mass':mass_mean, 'width':data.loc[23]['width'], 'height':height_mean, 'color_score':data.loc[23]['color_score']})\n",
    "data.loc[24] = pd.Series({'fruit_label':data.loc[24]['fruit_label'], 'mass':mass_mean, 'width':data.loc[24]['width'], 'height':height_mean, 'color_score':data.loc[24]['color_score']})\n",
    "data.loc[25] = pd.Series({'fruit_label':data.loc[25]['fruit_label'], 'mass':mass_mean, 'width':data.loc[25]['width'], 'height':height_mean, 'color_score':data.loc[25]['color_score']})\n",
    "\n",
    "# data"
   ]
  },
  {
   "cell_type": "code",
   "execution_count": 577,
   "metadata": {},
   "outputs": [],
   "source": [
    "data = data.sample(frac=1).reset_index(drop=True)\n",
    "# data"
   ]
  },
  {
   "cell_type": "code",
   "execution_count": 574,
   "metadata": {},
   "outputs": [
    {
     "data": {
      "text/plain": [
       "Counter()"
      ]
     },
     "execution_count": 574,
     "metadata": {},
     "output_type": "execute_result"
    }
   ],
   "source": [
    "from collections import Counter\n",
    "Counter()"
   ]
  },
  {
   "cell_type": "code",
   "execution_count": 575,
   "metadata": {},
   "outputs": [],
   "source": [
    "def KNN(data, k):\n",
    "    \n",
    "    distances = []\n",
    "    predicted_labels = []\n",
    "    \n",
    "    for j in range(50,60):\n",
    "        dist = {}\n",
    "        for i in range(0,50):\n",
    "            \n",
    "            # calculating Euclidean distance\n",
    "            ans = pow(data.loc[i]['mass']-data.loc[j]['mass'],2) + pow(data.loc[i]['width']-data.loc[j]['width'],2) + pow(data.loc[i]['height']-data.loc[j]['height'],2) + pow(data.loc[i]['color_score']-data.loc[j]['color_score'],2)\n",
    "            \n",
    "            dist[i] = [ans, data.loc[i]['fruit_label']]\n",
    "        \n",
    "        # sorted dataset to get K elements\n",
    "        sorted_dist = sorted(dist.items(), key=lambda x: x[1], reverse=False)\n",
    "        distances.append(sorted_dist[0:k])\n",
    "        \n",
    "        \n",
    "    print(*distances,sep='\\n')\n",
    "    \n",
    "\n",
    "    # counting labels of test data\n",
    "    for i in range(0,len(distances)):\n",
    "        labels = []\n",
    "        for j in range(0,k):\n",
    "            labels.append(distances[i][j][1][1])\n",
    "            \n",
    "        lst = Counter(labels)\n",
    "        predicted_labels.append(lst.most_common()[0][0])\n",
    "    \n",
    "    print('Preicted labels:',predicted_labels)\n",
    "        "
   ]
  },
  {
   "cell_type": "code",
   "execution_count": 576,
   "metadata": {},
   "outputs": [
    {
     "name": "stdout",
     "output_type": "stream",
     "text": [
      "[(17, [0.4509, 1.0]), (27, [10.329999999999998, 4.0]), (48, [16.3524, 1.0])]\n",
      "[(22, [4.0108999999999995, 3.0]), (23, [4.53, 1.0]), (0, [16.08, 3.0])]\n",
      "[(34, [41.10209999999999, 3.0]), (5, [145.0436, 3.0]), (9, [256.09009999999995, 4.0])]\n",
      "[(49, [4.2904, 4.0]), (44, [104.0504, 3.0]), (7, [144.1301, 4.0])]\n",
      "[(29, [4.426899999999999, 3.0]), (48, [4.5524000000000004, 1.0]), (16, [5.918900000000001, 1.0])]\n",
      "[(11, [0.00010000000000000018, 4.0]), (13, [0.00010000000000000018, 4.0]), (41, [0.0025000000000000044, 3.0])]\n",
      "[(11, [0.0, 4.0]), (13, [0.0, 4.0]), (41, [0.001600000000000003, 3.0])]\n",
      "[(44, [5.300899999999999, 3.0]), (31, [100.8009, 3.0]), (49, [101.70009999999999, 4.0])]\n",
      "[(22, [0.052499999999999644, 3.0]), (36, [16.1921, 1.0]), (3, [16.2001, 3.0])]\n",
      "[(25, [854858350.8800117, 3.0]), (28, [854858350.8835117, 4.0]), (32, [854858350.8835117, 4.0])]\n",
      "Preicted labels: [1.0, 3.0, 3.0, 4.0, 1.0, 4.0, 4.0, 3.0, 3.0, 4.0]\n"
     ]
    }
   ],
   "source": [
    "KNN(data, 3)"
   ]
  },
  {
   "cell_type": "code",
   "execution_count": null,
   "metadata": {},
   "outputs": [],
   "source": []
  }
 ],
 "metadata": {
  "kernelspec": {
   "display_name": "Python 3",
   "language": "python",
   "name": "python3"
  },
  "language_info": {
   "codemirror_mode": {
    "name": "ipython",
    "version": 3
   },
   "file_extension": ".py",
   "mimetype": "text/x-python",
   "name": "python",
   "nbconvert_exporter": "python",
   "pygments_lexer": "ipython3",
   "version": "3.8.3"
  }
 },
 "nbformat": 4,
 "nbformat_minor": 4
}
