{
 "cells": [
  {
   "cell_type": "code",
   "execution_count": 291,
   "metadata": {},
   "outputs": [],
   "source": [
    "import pandas as pd\n",
    "import random\n",
    "from math import sqrt \n",
    "import numpy as np\n",
    "from datetime import datetime, timedelta"
   ]
  },
  {
   "cell_type": "code",
   "execution_count": 21,
   "metadata": {},
   "outputs": [],
   "source": [
    "corpus = pd.read_csv('dataset.csv', encoding='Latin-1')"
   ]
  },
  {
   "cell_type": "code",
   "execution_count": 22,
   "metadata": {},
   "outputs": [],
   "source": [
    "corpus = corpus.iloc[:,[3,4,5,6]]"
   ]
  },
  {
   "cell_type": "code",
   "execution_count": 23,
   "metadata": {},
   "outputs": [],
   "source": [
    "mass_mean = corpus['mass'].mean()\n",
    "height_mean = corpus['height'].mean()"
   ]
  },
  {
   "cell_type": "code",
   "execution_count": 213,
   "metadata": {},
   "outputs": [
    {
     "name": "stdout",
     "output_type": "stream",
     "text": [
      "mass\n",
      "width\n",
      "height\n",
      "color_score\n"
     ]
    }
   ],
   "source": [
    "corpus.loc[17] = pd.Series({'mass':mass_mean, 'width':corpus.loc[17]['width'], 'height':height_mean, 'color_score':corpus.loc[17]['color_score']})\n",
    "corpus.loc[18] = pd.Series({'mass':mass_mean, 'width':corpus.loc[18]['width'], 'height':height_mean, 'color_score':corpus.loc[18]['color_score']})\n",
    "corpus.loc[19] = pd.Series({'mass':mass_mean, 'width':corpus.loc[19]['width'], 'height':height_mean, 'color_score':corpus.loc[19]['color_score']})\n",
    "corpus.loc[20] = pd.Series({'mass':mass_mean, 'width':corpus.loc[20]['width'], 'height':height_mean, 'color_score':corpus.loc[20]['color_score']})\n",
    "corpus.loc[21] = pd.Series({'mass':mass_mean, 'width':corpus.loc[21]['width'], 'height':height_mean, 'color_score':corpus.loc[21]['color_score']})\n",
    "corpus.loc[22] = pd.Series({'mass':mass_mean, 'width':corpus.loc[22]['width'], 'height':height_mean, 'color_score':corpus.loc[22]['color_score']})\n",
    "corpus.loc[23] = pd.Series({'mass':mass_mean, 'width':corpus.loc[23]['width'], 'height':height_mean, 'color_score':corpus.loc[23]['color_score']})\n",
    "corpus.loc[24] = pd.Series({'mass':mass_mean, 'width':corpus.loc[24]['width'], 'height':height_mean, 'color_score':corpus.loc[24]['color_score']})\n",
    "corpus.loc[25] = pd.Series({'mass':mass_mean, 'width':corpus.loc[25]['width'], 'height':height_mean, 'color_score':corpus.loc[25]['color_score']})\n",
    "\n",
    "# corpus"
   ]
  },
  {
   "cell_type": "code",
   "execution_count": 34,
   "metadata": {},
   "outputs": [],
   "source": [
    "# Step 1 - Random k\n",
    "k = 3"
   ]
  },
  {
   "cell_type": "code",
   "execution_count": 358,
   "metadata": {},
   "outputs": [],
   "source": [
    "# Step 2 - Select centroids\n",
    "\n",
    "def select_centroids(corpus, k, new_centroids):\n",
    "    \n",
    "    if new_centroids != []:\n",
    "        return new_centroids\n",
    "    \n",
    "    sc = []\n",
    "    selected_centroids = []\n",
    "    \n",
    "    for i in range(k):\n",
    "        r = random.randint(0,len(corpus)-1)\n",
    "        \n",
    "        if r in sc:\n",
    "            for i in range(10):\n",
    "                r2 = random.randint(0, len(corpus)-1)\n",
    "                if r2 not in sc:\n",
    "                    sc.append(r2)\n",
    "                    selected_centroids.append([corpus['mass'][r2], corpus['width'][r2], corpus['height'][r2], corpus['color_score'][r2]])\n",
    "                    break\n",
    "        \n",
    "        else:\n",
    "            sc.append(r)\n",
    "            selected_centroids.append([corpus['mass'][r], corpus['width'][r], corpus['height'][r], corpus['color_score'][r]])\n",
    "    \n",
    "    return selected_centroids"
   ]
  },
  {
   "cell_type": "code",
   "execution_count": 253,
   "metadata": {},
   "outputs": [],
   "source": [
    "# calculate euclidean distance between centroids and all points\n",
    "\n",
    "def calc_distance(corpus, selected_centroids, row):\n",
    "    clusters = []\n",
    "    d = float('inf')\n",
    "    \n",
    "    for i in range(len(selected_centroids)):\n",
    "        \n",
    "        dist = sqrt( pow(np.array(selected_centroids[i][0]-row[0]), 2) + \n",
    "        pow(np.array(selected_centroids[i][1]-row[1]), 2) +\n",
    "        pow(np.array(selected_centroids[i][2]-row[2]), 2) + \n",
    "        pow(np.array(selected_centroids[i][3]-row[3]), 2) )\n",
    "        \n",
    "        if dist < d:\n",
    "            d = dist\n",
    "            b = i\n",
    "    \n",
    "    return b\n",
    "        "
   ]
  },
  {
   "cell_type": "code",
   "execution_count": 260,
   "metadata": {},
   "outputs": [],
   "source": [
    "# Step 3 - Assign points to closest cluster centroid b calculating Euclidean distance\n",
    "\n",
    "def assign_points(corpus, selected_centroids):\n",
    "    cluster1, cluster2, cluster3 = [], [], []\n",
    "    for i in range(len(corpus)):\n",
    "        \n",
    "        row = [corpus['mass'][i], corpus['width'][i], corpus['height'][i], corpus['color_score'][i]]\n",
    "        \n",
    "        if row not in selected_centroids:\n",
    "            \n",
    "            best_centroid = calc_distance(corpus, selected_centroids, row)\n",
    "            \n",
    "            if best_centroid == 0:\n",
    "                cluster1.append(row)\n",
    "                \n",
    "            elif best_centroid == 1:\n",
    "                cluster2.append(row)\n",
    "                \n",
    "            elif best_centroid == 2:\n",
    "                cluster3.append(row)\n",
    "                \n",
    "    return cluster1, cluster2, cluster3"
   ]
  },
  {
   "cell_type": "code",
   "execution_count": 271,
   "metadata": {},
   "outputs": [],
   "source": [
    "# Step 4 - Recompute centroids\n",
    "\n",
    "def recompute_centroids(selected_centroids, cluster1, cluster2, cluster3):\n",
    "    \n",
    "    avg_mass, avg_width, avg_height, avg_colorscore = 0, 0, 0, 0\n",
    "    \n",
    "    for i in cluster1:\n",
    "        avg_mass += i[0]\n",
    "        avg_width += i[1]\n",
    "        avg_height += i[2]\n",
    "        avg_colorscore += i[3]\n",
    "        \n",
    "    selected_centroids[0] = [avg_mass, avg_width, avg_height, avg_colorscore]\n",
    "\n",
    "    \n",
    "    avg_mass, avg_width, avg_height, avg_colorscore = 0, 0, 0, 0\n",
    "    \n",
    "    for i in cluster2:\n",
    "        avg_mass += i[0]\n",
    "        avg_width += i[1]\n",
    "        avg_height += i[2]\n",
    "        avg_colorscore += i[3]\n",
    "        \n",
    "    selected_centroids[1] = [avg_mass, avg_width, avg_height, avg_colorscore]\n",
    "        \n",
    "        \n",
    "    avg_mass, avg_width, avg_height, avg_colorscore = 0, 0, 0, 0\n",
    "\n",
    "    for i in cluster3:\n",
    "        avg_mass += i[0]\n",
    "        avg_width += i[1]\n",
    "        avg_height += i[2]\n",
    "        avg_colorscore += i[3]\n",
    "        \n",
    "    selected_centroids[2] = [avg_mass, avg_width, avg_height, avg_colorscore]\n",
    "    \n",
    "    \n",
    "    \n",
    "    return selected_centroids\n",
    "        "
   ]
  },
  {
   "cell_type": "code",
   "execution_count": null,
   "metadata": {},
   "outputs": [],
   "source": []
  },
  {
   "cell_type": "code",
   "execution_count": 364,
   "metadata": {},
   "outputs": [],
   "source": [
    "def KMeans(corpus, k):\n",
    "    \n",
    "    print('Please wait, the algorithm is running for 3 seconds.')\n",
    "    \n",
    "    end_time = datetime.now() + timedelta(seconds=3)\n",
    "    new_centroids = []\n",
    "    \n",
    "        \n",
    "#     cluster1, cluster2, cluster3 = assign_points(corpus, selected_centroids)\n",
    "    \n",
    "#     new_centroids = recompute_centroids(selected_centroids, cluster1, cluster2, cluster3)    \n",
    "        \n",
    "    while datetime.now() < end_time:\n",
    "        \n",
    "        selected_centroids = select_centroids(corpus, k, new_centroids)\n",
    "\n",
    "        cluster1, cluster2, cluster3 = assign_points(corpus, selected_centroids)\n",
    "\n",
    "        new_centroids = recompute_centroids(selected_centroids, cluster1, cluster2, cluster3)\n",
    "        \n",
    "    return cluster1, cluster2, cluster3\n",
    "    "
   ]
  },
  {
   "cell_type": "code",
   "execution_count": 367,
   "metadata": {},
   "outputs": [
    {
     "name": "stdout",
     "output_type": "stream",
     "text": [
      "Please wait, the algorithm is running for 3 seconds.\n",
      "Cluster 1:\n",
      "[]\n",
      "---------------\n",
      "Cluster 2:\n",
      "[]\n",
      "---------------\n",
      "Cluster 3:\n",
      "[[192.0, 8.4, 7.3, 0.55], [180.0, 8.0, 6.8, 0.59], [176.0, 7.4, 7.2, 0.6], [86.0, 6.2, 4.7, 0.8], [84.0, 6.0, 4.6, 0.79], [80.0, 5.8, 4.3, 0.77], [80.0, 5.9, 4.3, 0.81], [76.0, 5.8, 4.0, 0.81], [178.0, 7.1, 7.8, 0.92], [172.0, 7.4, 7.0, 0.89], [166.0, 6.9, 7.3, 0.93], [172.0, 7.1, 7.6, 0.92], [154.0, 7.0, 7.1, 0.88], [164.0, 7.3, 7.7, 0.7], [152.0, 7.6, 7.3, 0.69], [156.0, 7.7, 7.1, 0.69], [1000.0, 7.6, 7.5, 0.67], [762.0392156862745, 7.2, 7.711764705882353, 0.7], [762.0392156862745, 7.3, 7.711764705882353, 0.72], [762.0392156862745, 7.2, 7.711764705882353, 0.72], [762.0392156862745, 7.3, 7.711764705882353, 0.71], [762.0392156862745, 7.3, 7.711764705882353, 0.72], [762.0392156862745, 7.3, 7.711764705882353, 0.72], [762.0392156862745, 5.8, 7.711764705882353, 0.73], [762.0392156862745, 6.0, 7.711764705882353, 0.71], [762.0392156862745, 9.0, 7.711764705882353, 0.75], [356.0, 9.2, 9.2, 0.75], [362.0, 9.6, 9.2, 0.74], [204.0, 7.5, 9.2, 0.77], [140.0, 6.7, 7.1, 0.72], [160.0, 7.0, 7.4, 0.81], [158.0, 7.1, 7.5, 0.79], [210.0, 7.8, 8.0, 0.82], [164.0, 7.2, 7.0, 0.8], [190.0, 7.5, 8.1, 0.74], [142.0, 7.6, 7.8, 0.75], [150.0, 7.1, 7.9, 0.75], [160.0, 7.1, 7.6, 0.76], [154.0, 7.3, 7.3, 0.79], [158.0, 7.2, 7.8, 0.77], [154.0, 7.3, 7.5, 0.76], [180.0, 7.6, 8.2, 0.79], [154.0, 7.2, 7.2, 0.82], [194.0, 7.2, 10.3, 0.7], [200.0, 7.3, 10.5, 0.72], [186.0, 7.2, 9.2, 0.72], [216.0, 7.3, 10.2, 0.71], [196.0, 7.3, 10.2, 0.72], [174.0, 7.3, 10.1, 0.72], [132.0, 5.8, 8.7, 0.73], [130.0, 6.0, 8.2, 0.71], [116.0, 6.0, 7.5, 0.72], [118.0, 5.9, 8.0, 0.72], [120.0, 6.0, 8.4, 0.74], [116.0, 6.1, 8.5, 0.71], [116.0, 6.3, 7.7, 0.72], [116.0, 5.9, 8.1, 0.73], [152.0, 6.5, 8.5, 0.72], [118.0, 6.1, 8.1, 0.7]]\n"
     ]
    }
   ],
   "source": [
    "c1, c2, c3 = KMeans(corpus,k)\n",
    "print('Cluster 1:',c1,sep='\\n')\n",
    "print('---------------')\n",
    "print('Cluster 2:',c2,sep='\\n')\n",
    "print('---------------')\n",
    "print('Cluster 3:',c3,sep='\\n')"
   ]
  },
  {
   "cell_type": "code",
   "execution_count": 369,
   "metadata": {},
   "outputs": [
    {
     "name": "stdout",
     "output_type": "stream",
     "text": [
      "59\n"
     ]
    }
   ],
   "source": [
    "print(len(c1)+len(c2)+len(c3))"
   ]
  },
  {
   "cell_type": "code",
   "execution_count": null,
   "metadata": {},
   "outputs": [],
   "source": []
  },
  {
   "cell_type": "code",
   "execution_count": null,
   "metadata": {},
   "outputs": [],
   "source": []
  }
 ],
 "metadata": {
  "kernelspec": {
   "display_name": "Python 3",
   "language": "python",
   "name": "python3"
  },
  "language_info": {
   "codemirror_mode": {
    "name": "ipython",
    "version": 3
   },
   "file_extension": ".py",
   "mimetype": "text/x-python",
   "name": "python",
   "nbconvert_exporter": "python",
   "pygments_lexer": "ipython3",
   "version": "3.8.3"
  }
 },
 "nbformat": 4,
 "nbformat_minor": 4
}
