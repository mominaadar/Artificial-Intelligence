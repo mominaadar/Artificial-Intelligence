{
 "cells": [
  {
   "cell_type": "code",
   "execution_count": 1,
   "metadata": {},
   "outputs": [],
   "source": [
    "import networkx as nx\n",
    "import matplotlib.pyplot as plt\n",
    "\n",
    "%matplotlib inline \n",
    "import warnings\n",
    "warnings.filterwarnings(\"ignore\")\n",
    "\n",
    "import pprint\n",
    "from queue import PriorityQueue"
   ]
  },
  {
   "cell_type": "code",
   "execution_count": 2,
   "metadata": {},
   "outputs": [],
   "source": [
    "def draw_graph_with_nx(G): \n",
    "    pos = nx.spring_layout(G, iterations=200)\n",
    "    options = {'node_color': 'white', 'alpha': 1, 'node_size': 2000, 'width': 0.002, 'font_color': 'darkred', \n",
    "               'font_size': 25, 'arrows': True, 'edge_color': 'brown',\n",
    "               'arrowstyle': 'Fancy, head_length=1, head_width=1, tail_width=.4'\n",
    "              }\n",
    "    labels = nx.get_node_attributes(G, 'label')\n",
    "    nx.draw(G, pos, labels=labels,  **options)\n",
    "    plt.show()"
   ]
  },
  {
   "cell_type": "code",
   "execution_count": 3,
   "metadata": {},
   "outputs": [],
   "source": [
    "class Weighted:\n",
    "    def __init__(self):\n",
    "        self.g = {}\n",
    "        \n",
    "    def add_node(self,node):\n",
    "        if node in self.g:\n",
    "            raise ValueError(\"Already exists\")\n",
    "        \n",
    "        self.g[node] = []\n",
    "        \n",
    "    def add_edge(self,src,dest,cost):\n",
    "        if src not in self.g or dest not in self.g:\n",
    "            raise ValueError(\"Src/dest not found\")\n",
    "            \n",
    "        children = self.g[src]\n",
    "        if dest not in children:\n",
    "            children.append((dest,cost))\n",
    "            \n",
    "    def get_neighbours(self,src):\n",
    "        neigh = []\n",
    "        \n",
    "        if src not in self.g:\n",
    "            raise ValueErrir('Src not found')\n",
    "            \n",
    "        for i in self.g[src]:\n",
    "            neigh.append(i[0])\n",
    "        return neigh\n",
    "    \n",
    "    def get_cost(self, src, dest):\n",
    "        cost = 0\n",
    "        if src not in self.g or dest not in self.g:\n",
    "            raise ValueError('Src/Dest not found')\n",
    "            \n",
    "        for i in range(0,len(self.g[src])):\n",
    "            if self.g[src][i][0] == dest:\n",
    "                cost = self.g[src][i][1]\n",
    "                \n",
    "        return cost\n",
    "        \n",
    "    \n",
    "    def draw_graph(self): \n",
    "        G = nx.DiGraph()\n",
    "        for src in self.g: \n",
    "            G.add_node(src, label=src) \n",
    "            for dest in self.g[src]:\n",
    "                G.add_edge(src, dest[0], weight=str(dest[1]))\n",
    "                \n",
    "        draw_graph_with_nx(G)"
   ]
  },
  {
   "cell_type": "code",
   "execution_count": 4,
   "metadata": {},
   "outputs": [],
   "source": [
    "g = Weighted()\n",
    "g.add_node('A')\n",
    "g.add_node('B')\n",
    "g.add_node('C')\n",
    "g.add_node('D')\n",
    "g.add_node('E')\n",
    "g.add_node('F')\n",
    "g.add_node('G')"
   ]
  },
  {
   "cell_type": "code",
   "execution_count": 5,
   "metadata": {},
   "outputs": [],
   "source": [
    "g.add_edge('A','B',12)\n",
    "g.add_edge('A','C',2)\n",
    "g.add_edge('B','D',7)\n",
    "g.add_edge('C','D',4)\n",
    "g.add_edge('C','G',1)\n",
    "g.add_edge('D','G',2)\n",
    "g.add_edge('F','A',1)\n",
    "g.add_edge('F','G',5)"
   ]
  },
  {
   "cell_type": "code",
   "execution_count": 6,
   "metadata": {},
   "outputs": [
    {
     "name": "stdout",
     "output_type": "stream",
     "text": [
      "{'A': [('B', 12), ('C', 2)],\n",
      " 'B': [('D', 7)],\n",
      " 'C': [('D', 4), ('G', 1)],\n",
      " 'D': [('G', 2)],\n",
      " 'E': [],\n",
      " 'F': [('A', 1), ('G', 5)],\n",
      " 'G': []}\n"
     ]
    }
   ],
   "source": [
    "pprint.pprint(g.g)"
   ]
  },
  {
   "cell_type": "code",
   "execution_count": 7,
   "metadata": {},
   "outputs": [],
   "source": [
    "def UCS(graph, src, dest):\n",
    "    visited_nodes = []\n",
    "    que = PriorityQueue()\n",
    "    que.put((0, src))\n",
    "    \n",
    "\n",
    "    while que:\n",
    "        cost, node = que.get()\n",
    "        print(cost,node)\n",
    "        \n",
    "        if node not in visited_nodes:\n",
    "            visited_nodes.append(node)\n",
    "            \n",
    "            if node == dest:                \n",
    "#                 return cost\n",
    "                print(cost,node)\n",
    "                return que\n",
    "    \n",
    "            for i in graph.get_neighbours(node):\n",
    "                if i not in visited_nodes:\n",
    "                    t_cost = cost + graph.get_cost(node,i)\n",
    "                    que.put((t_cost,i))\n",
    "        \n",
    "    return False\n"
   ]
  },
  {
   "cell_type": "markdown",
   "metadata": {},
   "source": [
    "que = UCS(g,'A','G')\n",
    "print(que.get())\n",
    "print(que.get())"
   ]
  },
  {
   "cell_type": "code",
   "execution_count": 8,
   "metadata": {},
   "outputs": [
    {
     "name": "stdout",
     "output_type": "stream",
     "text": [
      "0 A\n",
      "2 C\n",
      "3 G\n",
      "3 G\n"
     ]
    },
    {
     "data": {
      "text/plain": [
       "<queue.PriorityQueue at 0x7fa6500a2190>"
      ]
     },
     "execution_count": 8,
     "metadata": {},
     "output_type": "execute_result"
    }
   ],
   "source": [
    "UCS(g, 'A','G')"
   ]
  },
  {
   "cell_type": "code",
   "execution_count": 9,
   "metadata": {},
   "outputs": [],
   "source": [
    "def greedyBFS(graph, src, dest):\n",
    "    visited_nodes = []\n",
    "    que = PriorityQueue()\n",
    "    que.put((0, src))\n",
    "    min_cost = float('inf')\n",
    "    t_cost = 0\n",
    "\n",
    "    while que:\n",
    "        cost, node = que.get()\n",
    "        print(cost,node)\n",
    "                \n",
    "        if node not in visited_nodes:\n",
    "            visited_nodes.append(node)\n",
    "            \n",
    "            if node == dest:                \n",
    "                print(t_cost,node)\n",
    "                return que\n",
    "    \n",
    "            for i in graph.get_neighbours(node):\n",
    "                if i not in visited_nodes:\n",
    "                    cost = graph.get_cost(node,i)\n",
    "                    if cost < min_cost:\n",
    "                        min_cost = cost\n",
    "                        loc = i\n",
    "                \n",
    "            que.put((min_cost,loc))\n",
    "            t_cost = t_cost + min_cost\n",
    "        \n",
    "    return False\n"
   ]
  },
  {
   "cell_type": "code",
   "execution_count": 10,
   "metadata": {},
   "outputs": [
    {
     "name": "stdout",
     "output_type": "stream",
     "text": [
      "0 A\n",
      "2 C\n",
      "1 G\n",
      "3 G\n"
     ]
    },
    {
     "data": {
      "text/plain": [
       "<queue.PriorityQueue at 0x7fa65007ff70>"
      ]
     },
     "execution_count": 10,
     "metadata": {},
     "output_type": "execute_result"
    }
   ],
   "source": [
    "greedyBFS(g,'A','G')"
   ]
  },
  {
   "cell_type": "code",
   "execution_count": 11,
   "metadata": {},
   "outputs": [],
   "source": [
    "w = Weighted()\n",
    "w.add_node('S')\n",
    "w.add_node('S1')\n",
    "w.add_node('S2')\n",
    "w.add_node('S3')\n",
    "w.add_node('G')"
   ]
  },
  {
   "cell_type": "code",
   "execution_count": 12,
   "metadata": {},
   "outputs": [],
   "source": [
    "w.add_edge('S','S1',1)\n",
    "w.add_edge('S','S2',5)\n",
    "w.add_edge('S','S3',15)\n",
    "w.add_edge('S1','G',10)\n",
    "w.add_edge('S2','G',5)\n",
    "w.add_edge('S3','G',5)"
   ]
  },
  {
   "cell_type": "code",
   "execution_count": 82,
   "metadata": {},
   "outputs": [],
   "source": [
    "def heuristic(graph, node, parent):\n",
    "    \n",
    "    h_S = 8\n",
    "    h_S1 = 7\n",
    "    h_S2 = 3\n",
    "    h_S3 = 3\n",
    "    h_G = 0\n",
    "    \n",
    "    if node == 'S':\n",
    "        g_S = 0\n",
    "        f_n = g_S + h_S\n",
    "        return f_n\n",
    "    \n",
    "    if node == 'S1':\n",
    "        g_S1 = graph.get_cost('S','S1')\n",
    "        f_n = g_S1 + h_S1\n",
    "        return f_n\n",
    "    \n",
    "    if node == 'S2':\n",
    "        g_S2 = graph.get_cost('S','S2')\n",
    "        f_n = g_S2 + h_S2\n",
    "        return f_n\n",
    "    \n",
    "    if node == 'S3':\n",
    "        g_S3 = graph.get_cost('S','S3')\n",
    "        f_n = g_S3 + h_S3\n",
    "        return f_n\n",
    "    \n",
    "    if node == 'G':\n",
    "        if parent == 'S1':\n",
    "            g_G = graph.get_cost('S','S1') + graph.get_cost('S1','G')\n",
    "            f_n = g_G + h_G\n",
    "            return f_n\n",
    "        \n",
    "        if parent == 'S2':\n",
    "            g_G = graph.get_cost('S','S2') + graph.get_cost('S2','G')\n",
    "            f_n = g_G + h_G\n",
    "            return f_n\n",
    "        \n",
    "        if parent == 'S3':\n",
    "            g_G = graph.get_cost('S','S3') + graph.get_cost('S3','G')\n",
    "            f_n = g_G + h_G\n",
    "            return f_n"
   ]
  },
  {
   "cell_type": "code",
   "execution_count": 83,
   "metadata": {},
   "outputs": [],
   "source": [
    "from collections import deque"
   ]
  },
  {
   "cell_type": "code",
   "execution_count": 104,
   "metadata": {},
   "outputs": [],
   "source": [
    "def print_tree(tree, level=0, label='.'): \n",
    "    print(' ' * (level*2) + label + ':' , tree.val)\n",
    "    for child, lbl in zip([tree.left, tree.right], ['L', 'R']):  # do for all children \n",
    "        if child is not None:\n",
    "            print_tree(child, level+1, lbl)\n",
    "        \n",
    "class TreeNode:\n",
    "    def __init__(self, val):\n",
    "        self.val = val\n",
    "        self.right = None\n",
    "        self.left = None\n",
    "        \n",
    "class Tree:\n",
    "    def __init__(self,val,parent=None):\n",
    "        self.val = val\n",
    "        self.child_val = val\n",
    "        self.child_parent = parent"
   ]
  },
  {
   "cell_type": "code",
   "execution_count": 105,
   "metadata": {},
   "outputs": [],
   "source": [
    "t = Tree('S')\n",
    "t.child_val = 'S1'\n",
    "t.child_parent = 'S'\n",
    "\n",
    "\n"
   ]
  },
  {
   "cell_type": "code",
   "execution_count": 94,
   "metadata": {},
   "outputs": [],
   "source": [
    "def Astar(graph, src, dest):\n",
    "    \n",
    "    que = deque()\n",
    "    que.append(src)\n",
    "    costs = []\n",
    "    path = []\n",
    "    parent = ''\n",
    "    lst = []\n",
    "    \n",
    "    while que:\n",
    "        for i in que:\n",
    "            print(i)\n",
    "            \n",
    "        min_cost = float('inf')\n",
    "        \n",
    "        for q in que:\n",
    "            print('1 node,parent',q,parent)\n",
    "            cost = heuristic(graph, q, parent)\n",
    "            print('2 node,cost',q,cost)\n",
    "            if cost < min_cost:\n",
    "                min_cost = cost\n",
    "                node = q\n",
    "        \n",
    "        if node == dest:\n",
    "            return\n",
    "        \n",
    "        que.remove(node)\n",
    "        \n",
    "        print('3 Min:',node,min_cost)\n",
    "        path.append(node)\n",
    "        \n",
    "        neigh = graph.get_neighbours(node)\n",
    "        for n in neigh:\n",
    "            print('4 n:',n)\n",
    "            if n == 'G':\n",
    "                if node == 'S1':\n",
    "                    parent = 'S1'\n",
    "                if node == 'S2':\n",
    "                    parent = 'S2'\n",
    "                if node == 'S3':\n",
    "                    parent = 'S3'\n",
    "            \n",
    "            que.append(n)\n",
    "        \n",
    "        print('-------',path)"
   ]
  },
  {
   "cell_type": "code",
   "execution_count": 95,
   "metadata": {},
   "outputs": [
    {
     "name": "stdout",
     "output_type": "stream",
     "text": [
      "S\n",
      "1 node,parent S \n",
      "2 node,cost S 8\n",
      "3 Min: S 8\n",
      "4 n: S1\n",
      "4 n: S2\n",
      "4 n: S3\n",
      "------- ['S']\n",
      "S1\n",
      "S2\n",
      "S3\n",
      "1 node,parent S1 \n",
      "2 node,cost S1 8\n",
      "1 node,parent S2 \n",
      "2 node,cost S2 8\n",
      "1 node,parent S3 \n",
      "2 node,cost S3 18\n",
      "3 Min: S1 8\n",
      "4 n: G\n",
      "------- ['S', 'S1']\n",
      "S2\n",
      "S3\n",
      "G\n",
      "1 node,parent S2 S1\n",
      "2 node,cost S2 8\n",
      "1 node,parent S3 S1\n",
      "2 node,cost S3 18\n",
      "1 node,parent G S1\n",
      "2 node,cost G 11\n",
      "3 Min: S2 8\n",
      "4 n: G\n",
      "------- ['S', 'S1', 'S2']\n",
      "S3\n",
      "G\n",
      "G\n",
      "1 node,parent S3 S2\n",
      "2 node,cost S3 18\n",
      "1 node,parent G S2\n",
      "2 node,cost G 10\n",
      "1 node,parent G S2\n",
      "2 node,cost G 10\n"
     ]
    }
   ],
   "source": [
    "Astar(w,'S','G')"
   ]
  },
  {
   "cell_type": "code",
   "execution_count": null,
   "metadata": {},
   "outputs": [],
   "source": []
  }
 ],
 "metadata": {
  "kernelspec": {
   "display_name": "Python 3",
   "language": "python",
   "name": "python3"
  },
  "language_info": {
   "codemirror_mode": {
    "name": "ipython",
    "version": 3
   },
   "file_extension": ".py",
   "mimetype": "text/x-python",
   "name": "python",
   "nbconvert_exporter": "python",
   "pygments_lexer": "ipython3",
   "version": "3.8.3"
  }
 },
 "nbformat": 4,
 "nbformat_minor": 4
}
