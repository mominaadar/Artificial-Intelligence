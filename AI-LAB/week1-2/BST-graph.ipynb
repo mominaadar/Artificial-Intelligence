{
 "cells": [
  {
   "cell_type": "code",
   "execution_count": 145,
   "metadata": {},
   "outputs": [],
   "source": [
    "class TreeNode:\n",
    "    def __init__(self, val):\n",
    "        self.val = val\n",
    "        self.right = None\n",
    "        self.left = None"
   ]
  },
  {
   "cell_type": "code",
   "execution_count": 146,
   "metadata": {},
   "outputs": [],
   "source": [
    "class BST(TreeNode):\n",
    "    def __init__(self, val, parent=None):\n",
    "        super().__init__(val)\n",
    "        self.parent = parent"
   ]
  },
  {
   "cell_type": "code",
   "execution_count": 147,
   "metadata": {},
   "outputs": [],
   "source": [
    "def print_tree(tree, level=0, label='.'): \n",
    "    print(' ' * (level*2) + label + ':' , tree.val)\n",
    "    for child, lbl in zip([tree.left, tree.right], ['L', 'R']):  # do for all children \n",
    "        if child is not None:\n",
    "            print_tree(child, level+1, lbl)"
   ]
  },
  {
   "cell_type": "code",
   "execution_count": 148,
   "metadata": {},
   "outputs": [],
   "source": [
    "def insert(self, val):\n",
    "    if val < self.val:\n",
    "        if self.left is None:\n",
    "            new_node = BST(val, parent = self)\n",
    "            self.left = new_node\n",
    "        else:\n",
    "            self.left.insert(val)\n",
    "            \n",
    "    elif val > self.val:\n",
    "        if self.right is None:\n",
    "            new_node = BST(val, parent = self)\n",
    "            self.right = new_node\n",
    "        else:\n",
    "            self.right.insert(val)\n",
    "            \n",
    "BST.insert = insert"
   ]
  },
  {
   "cell_type": "code",
   "execution_count": 149,
   "metadata": {},
   "outputs": [],
   "source": [
    "t = BST(12)"
   ]
  },
  {
   "cell_type": "code",
   "execution_count": 150,
   "metadata": {},
   "outputs": [],
   "source": [
    "t.insert(8)\n",
    "t.insert(14)\n",
    "t.insert(6)\n",
    "t.insert(9)"
   ]
  },
  {
   "cell_type": "code",
   "execution_count": 151,
   "metadata": {},
   "outputs": [
    {
     "name": "stdout",
     "output_type": "stream",
     "text": [
      ".: 12\n",
      "  L: 8\n",
      "    L: 6\n",
      "    R: 9\n",
      "  R: 14\n"
     ]
    }
   ],
   "source": [
    "print_tree(t)"
   ]
  },
  {
   "cell_type": "code",
   "execution_count": 152,
   "metadata": {},
   "outputs": [],
   "source": [
    "def dfs_preorder(self):\n",
    "    \n",
    "    print(self.val)\n",
    "    \n",
    "    if self.left:\n",
    "        self.left.dfs_preorder()\n",
    "    \n",
    "    if self.right:\n",
    "        self.right.dfs_preorder()\n",
    "        \n",
    "    return\n",
    "\n",
    "BST.dfs_preorder = dfs_preorder"
   ]
  },
  {
   "cell_type": "code",
   "execution_count": 153,
   "metadata": {},
   "outputs": [
    {
     "name": "stdout",
     "output_type": "stream",
     "text": [
      "12\n",
      "8\n",
      "6\n",
      "9\n",
      "14\n"
     ]
    }
   ],
   "source": [
    "t.dfs_preorder()"
   ]
  },
  {
   "cell_type": "code",
   "execution_count": 154,
   "metadata": {},
   "outputs": [],
   "source": [
    "def dfs_inorder(self):\n",
    "    \n",
    "    if self.left:\n",
    "        self.left.dfs_inorder()\n",
    "        \n",
    "    print(self.val)\n",
    "    \n",
    "    if self.right:\n",
    "        self.right.dfs_inorder()\n",
    "        \n",
    "    return\n",
    "\n",
    "BST.dfs_inorder = dfs_inorder"
   ]
  },
  {
   "cell_type": "code",
   "execution_count": 155,
   "metadata": {},
   "outputs": [
    {
     "name": "stdout",
     "output_type": "stream",
     "text": [
      "6\n",
      "8\n",
      "9\n",
      "12\n",
      "14\n"
     ]
    }
   ],
   "source": [
    "t.dfs_inorder()"
   ]
  },
  {
   "cell_type": "code",
   "execution_count": 156,
   "metadata": {},
   "outputs": [],
   "source": [
    "def dfs_postorder(self):\n",
    "    \n",
    "    if self.left:\n",
    "        self.left.dfs_postorder()\n",
    "            \n",
    "    if self.right:\n",
    "        self.right.dfs_postorder()\n",
    "        \n",
    "    print(self.val)\n",
    "\n",
    "    return\n",
    "\n",
    "BST.dfs_postorder = dfs_postorder"
   ]
  },
  {
   "cell_type": "code",
   "execution_count": 157,
   "metadata": {},
   "outputs": [
    {
     "name": "stdout",
     "output_type": "stream",
     "text": [
      "6\n",
      "9\n",
      "8\n",
      "14\n",
      "12\n"
     ]
    }
   ],
   "source": [
    "t.dfs_postorder()"
   ]
  },
  {
   "cell_type": "code",
   "execution_count": 158,
   "metadata": {},
   "outputs": [],
   "source": [
    "def bfs(self):\n",
    "    lst = [self]\n",
    "    \n",
    "    while lst:\n",
    "        current = lst.pop(0)\n",
    "        print(current.val)\n",
    "        \n",
    "        if current.left:\n",
    "            lst.append(current.left)\n",
    "        \n",
    "        if current.right:\n",
    "            lst.append(current.right)\n",
    "            \n",
    "BST.bfs = bfs"
   ]
  },
  {
   "cell_type": "code",
   "execution_count": 159,
   "metadata": {},
   "outputs": [
    {
     "name": "stdout",
     "output_type": "stream",
     "text": [
      "12\n",
      "8\n",
      "14\n",
      "6\n",
      "9\n"
     ]
    }
   ],
   "source": [
    "t.bfs()"
   ]
  },
  {
   "cell_type": "markdown",
   "metadata": {},
   "source": [
    "### Deletion in BST"
   ]
  },
  {
   "cell_type": "code",
   "execution_count": 632,
   "metadata": {},
   "outputs": [],
   "source": [
    "class Dummy:\n",
    "    f = False\n",
    "d = Dummy()\n",
    "\n",
    "def get_successor(self):\n",
    "    self2 = self\n",
    "    \n",
    "    if self.right == None and self.left == None:\n",
    "        return self2\n",
    "    else:\n",
    "        if self.left:\n",
    "            self2 = self.left.get_successor()\n",
    "            d.f = True\n",
    "            return self2\n",
    "        \n",
    "        elif self.right:\n",
    "            if d.f == True:\n",
    "                return\n",
    "            else:\n",
    "                self2 = self.right.get_successor()\n",
    "                return self2\n",
    "    \n",
    "BST.get_successor = get_successor"
   ]
  },
  {
   "cell_type": "code",
   "execution_count": 633,
   "metadata": {},
   "outputs": [],
   "source": [
    "def delete(self, val):\n",
    "    \n",
    "    if self.val == val:\n",
    "    \n",
    "    \n",
    "        # CASE 1 - only root node\n",
    "        \n",
    "        if self.parent is None and self.left is None and self.right is None:\n",
    "            return None\n",
    "\n",
    "        \n",
    "        # CASE 2 - no child\n",
    "        \n",
    "        if self.left is None and self.right is None:   # if child node\n",
    "            \n",
    "            if self.parent.right:    \n",
    "                if self.parent.right.val == val:  # if child node is on the right of parent\n",
    "                    self.parent.right = None\n",
    "             \n",
    "            if self.parent.left:    \n",
    "                if self.parent.left.val == val:   # if child node is on the left of parent\n",
    "                    self.parent.left = None\n",
    "        \n",
    "        \n",
    "       # CASE 3 - one child\n",
    "    \n",
    "        if self.left is None and self.right != None:   # if the node to be deleted has only one child on its right\n",
    "            self.parent.right = self.right\n",
    "\n",
    "        if self.left != None and self.right is None:   # if the node to be deleted has only one child on its left\n",
    "            self.parent.left = self.left\n",
    "         \n",
    "        \n",
    "        # CASE 4 - two children\n",
    "        \n",
    "        if self.right and self.left:\n",
    "            \n",
    "            successor = self.right.get_successor()   # find successor - left-most leaf from right subtree\n",
    "            print(successor.val)\n",
    "            self.delete(successor.val)\n",
    "            self.val = successor.val\n",
    " \n",
    "    else:\n",
    "        if val < self.val:   # smaller value is on left side\n",
    "            self.left.delete(val)\n",
    "\n",
    "        if val > self.val:   # greater value is on right side\n",
    "            self.right.delete(val)\n",
    "    \n",
    "    return\n",
    "\n",
    "BST.delete = delete"
   ]
  },
  {
   "cell_type": "code",
   "execution_count": 634,
   "metadata": {},
   "outputs": [
    {
     "name": "stdout",
     "output_type": "stream",
     "text": [
      ".: 5\n",
      "  L: 2\n",
      "    L: 1\n",
      "    R: 3\n",
      "  R: 7\n",
      "    L: 6\n",
      "    R: 10\n",
      "      L: 9\n",
      "      R: 11\n"
     ]
    }
   ],
   "source": [
    "t2 = BST(5)\n",
    "t2.insert(7)\n",
    "t2.insert(2)\n",
    "t2.insert(1)\n",
    "t2.insert(10)\n",
    "t2.insert(3)\n",
    "t2.insert(9)\n",
    "t2.insert(11)\n",
    "t2.insert(6)\n",
    "print_tree(t2)"
   ]
  },
  {
   "cell_type": "code",
   "execution_count": 635,
   "metadata": {},
   "outputs": [
    {
     "name": "stdout",
     "output_type": "stream",
     "text": [
      "6\n"
     ]
    }
   ],
   "source": [
    "t2.delete(5)"
   ]
  },
  {
   "cell_type": "code",
   "execution_count": 636,
   "metadata": {},
   "outputs": [
    {
     "name": "stdout",
     "output_type": "stream",
     "text": [
      ".: 6\n",
      "  L: 2\n",
      "    L: 1\n",
      "    R: 3\n",
      "  R: 7\n",
      "    R: 10\n",
      "      L: 9\n",
      "      R: 11\n"
     ]
    }
   ],
   "source": [
    "print_tree(t2)"
   ]
  },
  {
   "cell_type": "code",
   "execution_count": null,
   "metadata": {},
   "outputs": [],
   "source": []
  },
  {
   "cell_type": "markdown",
   "metadata": {},
   "source": [
    "### Graphs"
   ]
  },
  {
   "cell_type": "code",
   "execution_count": 148,
   "metadata": {},
   "outputs": [
    {
     "name": "stdout",
     "output_type": "stream",
     "text": [
      "Collecting networkx\n",
      "  Downloading networkx-2.5-py3-none-any.whl (1.6 MB)\n",
      "\u001b[K     |████████████████████████████████| 1.6 MB 1.2 MB/s eta 0:00:01\n",
      "\u001b[?25hRequirement already satisfied: decorator>=4.3.0 in /home/momina/miniconda3/envs/stats/lib/python3.8/site-packages (from networkx) (4.4.2)\n",
      "Installing collected packages: networkx\n",
      "Successfully installed networkx-2.5\n"
     ]
    }
   ],
   "source": [
    "!pip install networkx"
   ]
  },
  {
   "cell_type": "code",
   "execution_count": 641,
   "metadata": {},
   "outputs": [],
   "source": [
    "import networkx as nx\n",
    "import matplotlib.pyplot as plt\n",
    "\n",
    "%matplotlib inline \n",
    "import warnings\n",
    "warnings.filterwarnings(\"ignore\")"
   ]
  },
  {
   "cell_type": "code",
   "execution_count": 642,
   "metadata": {},
   "outputs": [],
   "source": [
    "def draw_graph_with_nx(G): \n",
    "    pos = nx.spring_layout(G, iterations=200)\n",
    "    options = {'node_color': 'white', 'alpha': 1, 'node_size': 2000, 'width': 0.002, 'font_color': 'darkred', \n",
    "               'font_size': 25, 'arrows': True, 'edge_color': 'brown',\n",
    "               'arrowstyle': 'Fancy, head_length=1, head_width=1, tail_width=.4'\n",
    "              }\n",
    "    labels = nx.get_node_attributes(G, 'label')\n",
    "    nx.draw(G, pos, labels=labels,  **options)\n",
    "    plt.show()"
   ]
  },
  {
   "cell_type": "code",
   "execution_count": 643,
   "metadata": {},
   "outputs": [],
   "source": [
    "class Digraph:\n",
    "    def __init__(self):\n",
    "        self.g = {}\n",
    "        \n",
    "    def add_node(self,node):\n",
    "        if node in self.g:\n",
    "            raise ValueError(\"Source already exists\")\n",
    "\n",
    "        self.g[node] = []\n",
    "        \n",
    "    def add_edge(self,src,dest):\n",
    "        if src not in self.g and dest not in self.g:\n",
    "            raise ValueError('Source/Destination not found')\n",
    "\n",
    "        edges = self.g[src]\n",
    "\n",
    "        if dest not in edges:\n",
    "            edges.append(dest)\n",
    "        \n",
    "        else:\n",
    "            raise ValueError(\"Destination already exists\")\n",
    "\n",
    "    def draw_graph(self): \n",
    "        G = nx.DiGraph()\n",
    "        for src in self.g: \n",
    "            G.add_node(src, label=src) \n",
    "            for dest in self.g[src]:\n",
    "                G.add_edge(src, dest)\n",
    "                \n",
    "        draw_graph_with_nx(G)"
   ]
  },
  {
   "cell_type": "code",
   "execution_count": 645,
   "metadata": {},
   "outputs": [],
   "source": [
    "g = Digraph()\n",
    "g.add_node('Isd')\n",
    "g.add_node('Pwr')\n",
    "g.add_node('Grw')\n",
    "g.add_node('Lhr')\n",
    "g.add_node('Fsd')\n",
    "# g.add_node('Fsd')"
   ]
  },
  {
   "cell_type": "code",
   "execution_count": 646,
   "metadata": {},
   "outputs": [],
   "source": [
    "g.add_edge('Isd','Pwr')\n",
    "g.add_edge('Isd','Lhr')"
   ]
  },
  {
   "cell_type": "code",
   "execution_count": 647,
   "metadata": {},
   "outputs": [
    {
     "data": {
      "image/png": "[encoded data removed]",
      "text/plain": [
       "<Figure size 432x288 with 1 Axes>"
      ]
     },
     "metadata": {},
     "output_type": "display_data"
    }
   ],
   "source": [
    "g.draw_graph()"
   ]
  },
  {
   "cell_type": "code",
   "execution_count": null,
   "metadata": {},
   "outputs": [],
   "source": []
  }
 ],
 "metadata": {
  "kernelspec": {
   "display_name": "Python 3",
   "language": "python",
   "name": "python3"
  },
  "language_info": {
   "codemirror_mode": {
    "name": "ipython",
    "version": 3
   },
   "file_extension": ".py",
   "mimetype": "text/x-python",
   "name": "python",
   "nbconvert_exporter": "python",
   "pygments_lexer": "ipython3",
   "version": "3.8.3"
  }
 },
 "nbformat": 4,
 "nbformat_minor": 4
}
