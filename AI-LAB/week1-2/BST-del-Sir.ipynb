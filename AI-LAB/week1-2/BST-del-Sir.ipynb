{
 "cells": [
  {
   "cell_type": "code",
   "execution_count": 1,
   "metadata": {},
   "outputs": [],
   "source": [
    "class TreeNode:\n",
    "    def __init__(self, val):\n",
    "        self.val = val\n",
    "        self.right = None\n",
    "        self.left = None"
   ]
  },
  {
   "cell_type": "code",
   "execution_count": 2,
   "metadata": {},
   "outputs": [],
   "source": [
    "class BST(TreeNode):\n",
    "    def __init__(self, val, parent=None):\n",
    "        super().__init__(val)\n",
    "        self.parent = parent"
   ]
  },
  {
   "cell_type": "code",
   "execution_count": 3,
   "metadata": {},
   "outputs": [],
   "source": [
    "def print_tree(tree, level=0, label='.'): \n",
    "    print(' ' * (level*2) + label + ':' , tree.val)\n",
    "    for child, lbl in zip([tree.left, tree.right], ['L', 'R']):  # do for all children \n",
    "        if child is not None:\n",
    "            print_tree(child, level+1, lbl)"
   ]
  },
  {
   "cell_type": "code",
   "execution_count": 4,
   "metadata": {},
   "outputs": [],
   "source": [
    "def insert(self, val):\n",
    "    if val < self.val:\n",
    "        if self.left is None:\n",
    "            new_node = BST(val, parent = self)\n",
    "            self.left = new_node\n",
    "        else:\n",
    "            self.left.insert(val)\n",
    "            \n",
    "    elif val > self.val:\n",
    "        if self.right is None:\n",
    "            new_node = BST(val, parent = self)\n",
    "            self.right = new_node\n",
    "        else:\n",
    "            self.right.insert(val)\n",
    "            \n",
    "BST.insert = insert"
   ]
  },
  {
   "cell_type": "code",
   "execution_count": 5,
   "metadata": {},
   "outputs": [],
   "source": [
    "def find_root(self):\n",
    "    temp = self\n",
    "    while temp.parent is not None:\n",
    "        temp = temp.parent\n",
    "        \n",
    "    return temp\n",
    "\n",
    "BST.find_root = find_root"
   ]
  },
  {
   "cell_type": "code",
   "execution_count": 6,
   "metadata": {},
   "outputs": [],
   "source": [
    "def find_min(self):\n",
    "    \n",
    "    min_node = self\n",
    "    \n",
    "    if self.left is not None:\n",
    "        min_node = find_min(self.left)\n",
    "        \n",
    "    return min_node\n",
    "\n",
    "BST.find_min = find_min"
   ]
  },
  {
   "cell_type": "code",
   "execution_count": 7,
   "metadata": {},
   "outputs": [],
   "source": [
    "def set_for_parent(self, new_ref):\n",
    "    if self.parent is None:\n",
    "        return\n",
    "    if self.parent.right == self:\n",
    "        self.parent.right = new_ref\n",
    "        \n",
    "    if self.parent.left == self:\n",
    "        self.parent.left = new_ref\n",
    "        \n",
    "BST.set_for_parent = set_for_parent"
   ]
  },
  {
   "cell_type": "code",
   "execution_count": 8,
   "metadata": {},
   "outputs": [],
   "source": [
    "def replace_with_node(self, node):\n",
    "    \n",
    "    self.set_for_parent(node)\n",
    "    node.parent = self.parent\n",
    "    self.parent = None\n",
    "    return node.find_root()\n",
    "\n",
    "BST.replace_with_node = replace_with_node"
   ]
  },
  {
   "cell_type": "code",
   "execution_count": 9,
   "metadata": {},
   "outputs": [],
   "source": [
    "def delete(self,val):\n",
    "    \n",
    "    if self.parent is None and self.right is None and self.left is None and self.val == val:\n",
    "        return None\n",
    "    \n",
    "    if self.val == val:\n",
    "        if self.right is None and self.left is None:\n",
    "            self.set_for_parent(None)\n",
    "            return self.find_root()\n",
    "        \n",
    "        if self.right is None:\n",
    "            return self.replace_with_node(self.left)\n",
    "        \n",
    "        if self.left is None:\n",
    "            return self.replace_with_node(self.right)\n",
    "        \n",
    "        \n",
    "        successor = self.right.find_min()\n",
    "        \n",
    "        self.val = successor.val\n",
    "        \n",
    "        return self.right.delete(successor.val)\n",
    "    \n",
    "    if val < self.val:\n",
    "        if self.left is not None:\n",
    "            return self.left.delete(val)\n",
    "        else:\n",
    "            return self.find_root()\n",
    "    else:\n",
    "        if self.right is not None:\n",
    "            return self.right.delete(val)\n",
    "        else:\n",
    "            return self.find_root()\n",
    "    \n",
    "BST.delete = delete"
   ]
  },
  {
   "cell_type": "code",
   "execution_count": 10,
   "metadata": {},
   "outputs": [
    {
     "name": "stdout",
     "output_type": "stream",
     "text": [
      ".: 5\n",
      "  L: 2\n",
      "    L: 1\n",
      "    R: 3\n",
      "  R: 7\n",
      "    R: 10\n",
      "      L: 9\n",
      "        L: 8\n",
      "      R: 11\n"
     ]
    }
   ],
   "source": [
    "t2 = BST(5)\n",
    "t2.insert(7)\n",
    "t2.insert(2)\n",
    "t2.insert(1)\n",
    "t2.insert(10)\n",
    "t2.insert(3)\n",
    "t2.insert(9)\n",
    "t2.insert(11)\n",
    "t2.insert(8)\n",
    "print_tree(t2)"
   ]
  },
  {
   "cell_type": "code",
   "execution_count": 11,
   "metadata": {},
   "outputs": [
    {
     "data": {
      "text/plain": [
       "<__main__.BST at 0x7f32f43980a0>"
      ]
     },
     "execution_count": 11,
     "metadata": {},
     "output_type": "execute_result"
    }
   ],
   "source": [
    "t2.delete(5)"
   ]
  },
  {
   "cell_type": "code",
   "execution_count": 12,
   "metadata": {},
   "outputs": [
    {
     "name": "stdout",
     "output_type": "stream",
     "text": [
      ".: 7\n",
      "  L: 2\n",
      "    L: 1\n",
      "    R: 3\n",
      "  R: 10\n",
      "    L: 9\n",
      "      L: 8\n",
      "    R: 11\n"
     ]
    }
   ],
   "source": [
    "print_tree(t2)"
   ]
  },
  {
   "cell_type": "code",
   "execution_count": null,
   "metadata": {},
   "outputs": [],
   "source": []
  }
 ],
 "metadata": {
  "kernelspec": {
   "display_name": "Python 3",
   "language": "python",
   "name": "python3"
  },
  "language_info": {
   "codemirror_mode": {
    "name": "ipython",
    "version": 3
   },
   "file_extension": ".py",
   "mimetype": "text/x-python",
   "name": "python",
   "nbconvert_exporter": "python",
   "pygments_lexer": "ipython3",
   "version": "3.8.3"
  }
 },
 "nbformat": 4,
 "nbformat_minor": 4
}
