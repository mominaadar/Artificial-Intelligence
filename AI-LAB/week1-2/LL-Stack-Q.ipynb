{
 "cells": [
  {
   "cell_type": "markdown",
   "metadata": {},
   "source": [
    "### Linked List"
   ]
  },
  {
   "cell_type": "code",
   "execution_count": 1,
   "metadata": {},
   "outputs": [],
   "source": [
    "class Node:\n",
    "    def __init__(self, val=None):\n",
    "        self.val = val\n",
    "        self.next = None"
   ]
  },
  {
   "cell_type": "code",
   "execution_count": 2,
   "metadata": {},
   "outputs": [],
   "source": [
    "class LinkedList:\n",
    "    def __init__(self):\n",
    "        self.head = None"
   ]
  },
  {
   "cell_type": "code",
   "execution_count": 3,
   "metadata": {},
   "outputs": [],
   "source": [
    "def __str__(self):\n",
    "    ret_str = '['\n",
    "\n",
    "    temp = self.head\n",
    "    while temp:\n",
    "        ret_str += str(temp.val) + ', '\n",
    "        temp = temp.next\n",
    "\n",
    "    ret_str = ret_str.rstrip(', ')\n",
    "    ret_str = ret_str + ']'\n",
    "    return ret_str\n",
    "\n",
    "LinkedList.__str__ = __str__"
   ]
  },
  {
   "cell_type": "code",
   "execution_count": 4,
   "metadata": {},
   "outputs": [],
   "source": [
    "def push(self, val):\n",
    "    new_node = Node(val)\n",
    "\n",
    "    if self.head is None:\n",
    "        self.head = new_node\n",
    "        return\n",
    "\n",
    "    last = self.head\n",
    "    while last.next != None:\n",
    "        last = last.next\n",
    "\n",
    "    last.next = new_node\n",
    "    \n",
    "LinkedList.push = push"
   ]
  },
  {
   "cell_type": "code",
   "execution_count": 5,
   "metadata": {},
   "outputs": [],
   "source": [
    "def removed(self):\n",
    "    temp = self.head\n",
    "\n",
    "    if temp is None:\n",
    "        return 0\n",
    "\n",
    "    if temp.next is None:\n",
    "        self.head = None\n",
    "        return\n",
    "\n",
    "    while temp.next.next is not None:\n",
    "        temp = temp.next\n",
    "\n",
    "    temp.next = None\n",
    "    temp = None\n",
    "    \n",
    "LinkedList.removed = removed"
   ]
  },
  {
   "cell_type": "code",
   "execution_count": 6,
   "metadata": {},
   "outputs": [
    {
     "name": "stdout",
     "output_type": "stream",
     "text": [
      "[4, 8, 12]\n"
     ]
    }
   ],
   "source": [
    "l = LinkedList()\n",
    "l.push(4)\n",
    "l.push(8)\n",
    "l.push(12)\n",
    "print(l)"
   ]
  },
  {
   "cell_type": "code",
   "execution_count": 7,
   "metadata": {},
   "outputs": [
    {
     "name": "stdout",
     "output_type": "stream",
     "text": [
      "[4, 8]\n"
     ]
    }
   ],
   "source": [
    "l.removed()\n",
    "print(l)"
   ]
  },
  {
   "cell_type": "markdown",
   "metadata": {},
   "source": [
    "### Stack"
   ]
  },
  {
   "cell_type": "code",
   "execution_count": 279,
   "metadata": {},
   "outputs": [],
   "source": [
    "class Stack:\n",
    "    def __init__(self):\n",
    "        self.list = []\n",
    "        \n",
    "    def push(self, val):\n",
    "        self.list.append(val)\n",
    "        \n",
    "    def pop(self):\n",
    "        return self.list.pop()\n",
    "    \n",
    "    def display(self):\n",
    "        for i in range(0, len(self.list)):\n",
    "            print(self.list[i])"
   ]
  },
  {
   "cell_type": "code",
   "execution_count": 280,
   "metadata": {},
   "outputs": [
    {
     "name": "stdout",
     "output_type": "stream",
     "text": [
      "4\n",
      "5\n",
      "8\n"
     ]
    }
   ],
   "source": [
    "s = Stack()\n",
    "s.push(4)\n",
    "s.push(5)\n",
    "s.push(8)\n",
    "s.display()"
   ]
  },
  {
   "cell_type": "code",
   "execution_count": 281,
   "metadata": {},
   "outputs": [
    {
     "data": {
      "text/plain": [
       "8"
      ]
     },
     "execution_count": 281,
     "metadata": {},
     "output_type": "execute_result"
    }
   ],
   "source": [
    "s.pop()"
   ]
  },
  {
   "cell_type": "markdown",
   "metadata": {},
   "source": [
    "### Queue"
   ]
  },
  {
   "cell_type": "code",
   "execution_count": 282,
   "metadata": {},
   "outputs": [],
   "source": [
    "class Queue:\n",
    "    def __init__(self, size=5):\n",
    "        self.queue = []\n",
    "        self.size = size\n",
    "        self._inc = 0\n",
    "        self._dec = 0\n",
    "        self.Empty = True\n",
    "        self.Full = False\n",
    "        \n",
    "        for i in range(0, self.size):\n",
    "            self.queue.append(0)\n",
    "        \n",
    "    def _in(self):\n",
    "        if self._inc == self.size:\n",
    "            self._inc = 0\n",
    "        \n",
    "        self._inc = self._inc + 1\n",
    "        return\n",
    "            \n",
    "    def _out(self):\n",
    "        if self._dec == self.size:\n",
    "            self._dec = 0\n",
    "        \n",
    "        self._dec = self._dec + 1\n",
    "        return"
   ]
  },
  {
   "cell_type": "code",
   "execution_count": 283,
   "metadata": {},
   "outputs": [],
   "source": [
    "def enqueue(self, val):\n",
    "    if self.Full:\n",
    "        print(\"List is full\")\n",
    "        return\n",
    "    \n",
    "    \n",
    "    \n",
    "    self.queue[self._inc] = val\n",
    "    self._in()\n",
    "\n",
    "    if self._inc == self.size:\n",
    "        self.Full = True\n",
    "        self.Empty = False\n",
    "    return\n",
    "\n",
    "Queue.enqueue = enqueue"
   ]
  },
  {
   "cell_type": "code",
   "execution_count": 284,
   "metadata": {},
   "outputs": [],
   "source": [
    "def dequeue(self):\n",
    "    val = self.queue[self._dec]\n",
    "    self.queue[self._dec] = 0\n",
    "    self._out()\n",
    "\n",
    "    if self._inc == self._dec:\n",
    "        self.Empty = True\n",
    "\n",
    "    self.Full = False\n",
    "\n",
    "#     print(\"Dec 1:\", self._dec)\n",
    "\n",
    "    self.shifting()\n",
    "\n",
    "    self._dec = 0\n",
    "\n",
    "    return val\n",
    "\n",
    "Queue.dequeue = dequeue"
   ]
  },
  {
   "cell_type": "code",
   "execution_count": 285,
   "metadata": {},
   "outputs": [],
   "source": [
    "def shifting(self):\n",
    "\n",
    "    var1 = self._dec\n",
    "\n",
    "    for i in range(self.size):\n",
    "\n",
    "        if self._dec != self.size:\n",
    "\n",
    "            self.queue[self._dec-1] = self.queue[self._dec]\n",
    "            self._out()\n",
    "\n",
    "        else:\n",
    "            self.queue[self._dec-1] = 0\n",
    "\n",
    "    self._dec = var1\n",
    "\n",
    "    return\n",
    "\n",
    "Queue.shifting = shifting"
   ]
  },
  {
   "cell_type": "code",
   "execution_count": 286,
   "metadata": {},
   "outputs": [],
   "source": [
    "q = Queue(6)\n",
    "q.enqueue(5)\n",
    "q.enqueue(6)\n",
    "q.enqueue(2)\n",
    "q.enqueue(45)\n",
    "q.enqueue(9)"
   ]
  },
  {
   "cell_type": "code",
   "execution_count": 287,
   "metadata": {},
   "outputs": [
    {
     "name": "stdout",
     "output_type": "stream",
     "text": [
      "[5, 6, 2, 45, 9, 0]\n"
     ]
    }
   ],
   "source": [
    "print(q.queue)"
   ]
  },
  {
   "cell_type": "code",
   "execution_count": 288,
   "metadata": {},
   "outputs": [
    {
     "data": {
      "text/plain": [
       "5"
      ]
     },
     "execution_count": 288,
     "metadata": {},
     "output_type": "execute_result"
    }
   ],
   "source": [
    "q.dequeue()"
   ]
  },
  {
   "cell_type": "code",
   "execution_count": 289,
   "metadata": {},
   "outputs": [
    {
     "name": "stdout",
     "output_type": "stream",
     "text": [
      "[6, 2, 45, 9, 0, 0]\n"
     ]
    }
   ],
   "source": [
    "print(q.queue)"
   ]
  },
  {
   "cell_type": "code",
   "execution_count": 290,
   "metadata": {},
   "outputs": [
    {
     "data": {
      "text/plain": [
       "6"
      ]
     },
     "execution_count": 290,
     "metadata": {},
     "output_type": "execute_result"
    }
   ],
   "source": [
    "q.dequeue()"
   ]
  },
  {
   "cell_type": "code",
   "execution_count": 291,
   "metadata": {},
   "outputs": [
    {
     "name": "stdout",
     "output_type": "stream",
     "text": [
      "[2, 45, 9, 0, 0, 0]\n"
     ]
    }
   ],
   "source": [
    "print(q.queue)"
   ]
  },
  {
   "cell_type": "code",
   "execution_count": 292,
   "metadata": {},
   "outputs": [],
   "source": [
    "q.enqueue(12)"
   ]
  },
  {
   "cell_type": "code",
   "execution_count": 293,
   "metadata": {},
   "outputs": [
    {
     "name": "stdout",
     "output_type": "stream",
     "text": [
      "[2, 45, 9, 0, 0, 12]\n"
     ]
    }
   ],
   "source": [
    "print(q.queue)"
   ]
  },
  {
   "cell_type": "code",
   "execution_count": null,
   "metadata": {},
   "outputs": [],
   "source": []
  },
  {
   "cell_type": "code",
   "execution_count": null,
   "metadata": {},
   "outputs": [],
   "source": []
  }
 ],
 "metadata": {
  "kernelspec": {
   "display_name": "Python 3",
   "language": "python",
   "name": "python3"
  },
  "language_info": {
   "codemirror_mode": {
    "name": "ipython",
    "version": 3
   },
   "file_extension": ".py",
   "mimetype": "text/x-python",
   "name": "python",
   "nbconvert_exporter": "python",
   "pygments_lexer": "ipython3",
   "version": "3.8.3"
  }
 },
 "nbformat": 4,
 "nbformat_minor": 4
}
