{
 "cells": [
  {
   "cell_type": "code",
   "execution_count": 1,
   "metadata": {},
   "outputs": [],
   "source": [
    "import random"
   ]
  },
  {
   "cell_type": "code",
   "execution_count": 2,
   "metadata": {},
   "outputs": [],
   "source": [
    "matrix = [[0,60,100,510,620,40,70,80,120,650],\n",
    "          [60,0,60,130,40,80,90,90,440,540],\n",
    "          [100,60,0,450,450,860,910,190,10,145],\n",
    "          [510,130,450,0,70,1500,440,220,660,250],\n",
    "          [620,40,450,70,0,260,160,330,120,50],\n",
    "          [40,80,860,1500,260,0,370,260,350,110],\n",
    "          [70,90,910,440,160,370,0,50,120,270],\n",
    "          [80,90,190,220,330,260,50,0,330,990],\n",
    "          [120,440,10,660,120,350,120,330,0,330],\n",
    "          [650,540,145,250,50,110,270,990,330,0]]"
   ]
  },
  {
   "cell_type": "code",
   "execution_count": 3,
   "metadata": {},
   "outputs": [],
   "source": [
    "def initial_population(matrix):\n",
    "    parents = []\n",
    "    \n",
    "    for i in range(10):\n",
    "        P = []\n",
    "        for i in range(len(matrix[0])):\n",
    "            random_int = random.randint(1,10)\n",
    "            P.append(random_int)\n",
    "        parents.append(P)  \n",
    "    \n",
    "    return parents"
   ]
  },
  {
   "cell_type": "code",
   "execution_count": 4,
   "metadata": {},
   "outputs": [],
   "source": [
    "def selection(parents):\n",
    "    selected = []\n",
    "    \n",
    "    for i in range(int(len(parents)/2)):\n",
    "        lst = []\n",
    "        r1 = random.randint(0,len(parents)-1)\n",
    "        r2 = random.choice([i for i in range(0,len(parents)) if i not in [r1]])\n",
    "        \n",
    "        lst.append(parents[r1])\n",
    "        lst.append(parents[r2])\n",
    "        \n",
    "        selected.append(lst)\n",
    "\n",
    "        \n",
    "    return selected"
   ]
  },
  {
   "cell_type": "code",
   "execution_count": 5,
   "metadata": {},
   "outputs": [],
   "source": [
    "def crossover(selected):\n",
    "    \n",
    "    children = []\n",
    "    \n",
    "    n = len(selected[0][0])\n",
    "    crossover_pt = random.randint(1,n-1)\n",
    "    \n",
    "    for i in range(len(selected)):\n",
    "        \n",
    "        P0 = selected[i][0]\n",
    "        P1 = selected[i][1]\n",
    "        \n",
    "        left_P0 = P0[:crossover_pt]\n",
    "        right_P0 = P0[crossover_pt:]\n",
    "\n",
    "        left_P1 = P1[:crossover_pt]               \n",
    "        right_P1 = P1[crossover_pt:]\n",
    "\n",
    "        child1 = []\n",
    "\n",
    "        for i in left_P0:\n",
    "            child1.append(i)\n",
    "        for i in right_P1:\n",
    "            child1.append(i)\n",
    "            \n",
    "        children.append(child1)\n",
    "        \n",
    "        \n",
    "        child2 = []\n",
    "    \n",
    "        for i in left_P1:\n",
    "            child2.append(i)\n",
    "        for i in right_P0:\n",
    "            child2.append(i)\n",
    "            \n",
    "        children.append(child2)\n",
    "\n",
    "    \n",
    "    for i in children:\n",
    "        for j in range(len(i)):\n",
    "\n",
    "            r = random.randint(1,25)\n",
    "            r2 = [1,2,3,4,5,6,7,8,9,10]\n",
    "\n",
    "            if r == 15:\n",
    "                for k in r2:\n",
    "                    if k not in i:\n",
    "                        i[j] = k\n",
    "        \n",
    "    return children"
   ]
  },
  {
   "cell_type": "code",
   "execution_count": 6,
   "metadata": {},
   "outputs": [],
   "source": [
    "def mutation(children):\n",
    "    \n",
    "    r1 = random.randint(0,9)\n",
    "    r2 = random.choice([i for i in range(0,9) if i not in [r1]])\n",
    "    \n",
    "    for i in children:\n",
    "        temp = i[r1]\n",
    "        i[r1] = i[r2]\n",
    "        i[r2] = temp\n",
    "        \n",
    "    return children        "
   ]
  },
  {
   "cell_type": "code",
   "execution_count": 7,
   "metadata": {},
   "outputs": [],
   "source": [
    "def fitness_fn(mutated_children, matrix):\n",
    "    \n",
    "    flg = True\n",
    "    fit_paths = []\n",
    "    \n",
    "    # check if all cities visited once \n",
    "    \n",
    "    for i in mutated_children:\n",
    "        r = [1,2,3,4,5,6,7,8,9,10]\n",
    "        \n",
    "        for j in r:\n",
    "            if j not in i:\n",
    "                # Child is not fit i.e. Salesperson has not visited all the cities.\n",
    "                flg = False\n",
    "        \n",
    "        if flg == True:\n",
    "            fit_paths.append(i)\n",
    "            \n",
    "            \n",
    "    # and that path has min cost\n",
    "    \n",
    "    if len(fit_paths) > 0:\n",
    "    \n",
    "        total_cost = []\n",
    "\n",
    "        for i in fit_paths:\n",
    "            cost = 0\n",
    "            for j in range(len(i)-1):\n",
    "\n",
    "                dist_from = i[j]\n",
    "                dist_to = i[j+1]\n",
    "\n",
    "                cost = matrix[dist_from-1][dist_to-1] + cost\n",
    "\n",
    "            total_cost.append(cost)\n",
    "        \n",
    "        min_cost = float('inf')\n",
    "        for i in range(len(total_cost)):\n",
    "            if total_cost[i] < min_cost:\n",
    "                min_cost = total_cost[i]\n",
    "                best_path = mutated_children[i]\n",
    "    \n",
    "        return best_path, min_cost\n",
    "    \n",
    "    return None, None\n",
    "    \n",
    "    "
   ]
  },
  {
   "cell_type": "code",
   "execution_count": 8,
   "metadata": {},
   "outputs": [],
   "source": [
    "from datetime import datetime, timedelta"
   ]
  },
  {
   "cell_type": "code",
   "execution_count": 9,
   "metadata": {},
   "outputs": [],
   "source": [
    "def genetic_algo(matrix):\n",
    "    \n",
    "    end_time = datetime.now() + timedelta(seconds=3)\n",
    "    \n",
    "    min_cost = float('inf')\n",
    "    \n",
    "    parents = initial_population(matrix)\n",
    "#     print('Initial population (Parents):',parents)\n",
    "    \n",
    "    while datetime.now() < end_time:\n",
    "        \n",
    "        small_random_prob = random.uniform(0,1)\n",
    "\n",
    "\n",
    "        selected = selection(parents)\n",
    "#         print('Selected parents:',selected)\n",
    "\n",
    "        children = crossover(selected)\n",
    "#         print('Children after crossover:',*children,sep='\\n')\n",
    "        \n",
    "        \n",
    "        if small_random_prob < 0.5:\n",
    "            mutated_children = mutation(children)\n",
    "#             print('Mutated children:',*mutated_children, sep='\\n')\n",
    "\n",
    "            best_path, path_cost = fitness_fn(mutated_children, matrix)\n",
    "\n",
    "            if best_path and min_cost:\n",
    "    #             print('path',best_path, 'cost', min_cost)\n",
    "                if path_cost < min_cost:\n",
    "                    min_cost = path_cost\n",
    "                    p = best_path\n",
    "\n",
    "            else:\n",
    "                parents = mutated_children    \n",
    "    \n",
    "    print('Best path:',p,' Min cost we got:',min_cost)            \n",
    "#     return p, min_cost\n",
    "    "
   ]
  },
  {
   "cell_type": "code",
   "execution_count": 10,
   "metadata": {},
   "outputs": [
    {
     "name": "stdout",
     "output_type": "stream",
     "text": [
      "Best path: [10, 5, 4, 8, 7, 9, 3, 2, 6, 1]  Min cost we got: 700\n"
     ]
    }
   ],
   "source": [
    "genetic_algo(matrix)\n",
    "# print('Path:',path, 'Min cost:',cost)"
   ]
  },
  {
   "cell_type": "code",
   "execution_count": 12,
   "metadata": {},
   "outputs": [],
   "source": [
    "# for i in range(100):\n",
    "#     genetic_algo(matrix)"
   ]
  },
  {
   "cell_type": "code",
   "execution_count": null,
   "metadata": {},
   "outputs": [],
   "source": [
    "# I chose this chromosome representation of len 10 because there are total of 10 cities saleperson has to visit. I have selectef cities randomly from 1 to 10 and made chromosomes with duplication.\n",
    "# I chose 10 parents as initial population so more children can pe produced with more chances of mutation and better results. \n",
    "# At every iteration crossover rate is selected randomly to increase efficiency of algorithm.\n",
    "# Mutation probability is set to 0.5 because I have observed it gives me minimum path of 600 with all the cities visited once only.\n",
    "# It starts off as just random cities visited and after some iterations more duplications are removed as crossover is done. Random swapping in mutation helps in getting more different paths who may have lesser cost. So, after a certain point (3 seconds) from all the paths explored, the path with the minimum cost comes out as result."
   ]
  },
  {
   "cell_type": "code",
   "execution_count": null,
   "metadata": {},
   "outputs": [],
   "source": []
  },
  {
   "cell_type": "code",
   "execution_count": null,
   "metadata": {},
   "outputs": [],
   "source": []
  },
  {
   "cell_type": "code",
   "execution_count": null,
   "metadata": {},
   "outputs": [],
   "source": []
  },
  {
   "cell_type": "code",
   "execution_count": null,
   "metadata": {},
   "outputs": [],
   "source": []
  },
  {
   "cell_type": "code",
   "execution_count": null,
   "metadata": {},
   "outputs": [],
   "source": []
  },
  {
   "cell_type": "code",
   "execution_count": null,
   "metadata": {},
   "outputs": [],
   "source": []
  }
 ],
 "metadata": {
  "kernelspec": {
   "display_name": "Python 3",
   "language": "python",
   "name": "python3"
  },
  "language_info": {
   "codemirror_mode": {
    "name": "ipython",
    "version": 3
   },
   "file_extension": ".py",
   "mimetype": "text/x-python",
   "name": "python",
   "nbconvert_exporter": "python",
   "pygments_lexer": "ipython3",
   "version": "3.8.3"
  }
 },
 "nbformat": 4,
 "nbformat_minor": 4
}
